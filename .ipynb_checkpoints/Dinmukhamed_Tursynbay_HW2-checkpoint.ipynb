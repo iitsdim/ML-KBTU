{
 "cells": [
  {
   "cell_type": "markdown",
   "id": "21beeddd",
   "metadata": {},
   "source": [
    "# HW2\n",
    "\n",
    "It's highly recommended to write solutions in markdown cells just in this notebook. If you do so, you'll get up to $1$ bonus point depending on how accurate and neat your work is. You can also write the solutions to math problems by hand and then send photos of them, but there will be no bonus in such case. If you are not familiar with LaTeX, see a 2-page [cheat sheet](http://tug.ctan.org/info/undergradmath/undergradmath.pdf) for a quick start.\n",
    "\n",
    "## Task 1.1 (1 point)\n",
    "\n",
    "Let $\\xi \\sim \\mathrm{Bin}(n, p)$. Prove that $\\mathbb E\\xi = np$, $\\mathbb V\\xi = np(1-p)$.\n",
    "\n",
    "### YOUR SOLUTION HERE"
   ]
  },
  {
   "cell_type": "markdown",
   "id": "71ffd947",
   "metadata": {},
   "source": [
    "## Task 1.2 (2 points)\n",
    "\n",
    "Find the entropy of gamma distribution $\\mathrm{Gamma}(\\alpha, \\beta)$ whose density is\n",
    "\n",
    "$$\n",
    "    p(x) = \\frac1{\\Gamma(\\alpha) \\beta^\\alpha} x^{\\alpha - 1} e^{-\\frac x \\beta}.\n",
    "$$\n",
    "\n",
    "*Hint*. The answer is expressed in terms of **digamma function** $\\psi(t) = \\frac{\\Gamma'(t)}{\\Gamma(t)}$.\n",
    "\n",
    "### YOUR SOLUTION HERE"
   ]
  },
  {
   "cell_type": "markdown",
   "id": "fed78562",
   "metadata": {},
   "source": [
    "## Task 1.3 (3 points)\n",
    "\n",
    "Let $X_1, \\ldots, X_n$ is an i.i.d. sample from $\\mathcal N(0, \\sigma^2)$ and $\\widehat \\sigma = \\frac 1n \\sum\\limits_{i=1}^n |X_i|$.\n",
    "\n",
    "* Find bias, se and MSE of the estimation $\\widehat \\sigma$. Is this estimation unbiased? \n",
    "* If $\\widehat \\sigma$ turned out to be biased, fix it to get an unbiased estimation of $\\sigma$. Find se of this corrected estimation. Is it consistent?\n",
    "\n",
    "### YOUR SOLUTION HERE"
   ]
  },
  {
   "cell_type": "markdown",
   "id": "e4126703",
   "metadata": {},
   "source": [
    "## Task 1.4 (3 points)\n",
    "\n",
    "Let $X_1, \\ldots, X_n$ is an i.i.d. sample form $U[0, 2\\theta]$. The parameter $\\theta$ can be estimated as\n",
    "$\\widehat\\theta = \\overline X_n$ (sample average) or $\\tilde\\theta = \\mathrm{med}(X_1, \\ldots, X_n)$ (sample median). According to ML Handbook, both estimations are unbiased, and $\\mathbb V \\widehat\\theta = \\frac{\\theta^2}{3n}$, $\\mathbb V \\tilde\\theta = \\frac{\\theta^2}{n+3}$. Hence, due to the central limit theorem\n",
    "\n",
    "$$\n",
    "    \\widehat\\theta \\approx \\mathcal N\\Big(\\theta, \\frac{\\theta^2}{3n}\\Big), \\quad\n",
    "    \\tilde\\theta \\approx \\mathcal N\\Big(\\theta, \\frac{\\theta^2}{n+3}\\Big), \\quad n \\gg 1.\n",
    "$$\n",
    "\n",
    "In this exercise you are suggested to verify this equalities numerically using NumPy, and plot the results (see example below)."
   ]
  },
  {
   "cell_type": "markdown",
   "id": "b44dd061",
   "metadata": {},
   "source": [
    "### Possible result of the experiment"
   ]
  },
  {
   "cell_type": "code",
   "execution_count": 2,
   "id": "ab141823-e1bb-42b4-a7f1-5a411645123a",
   "metadata": {},
   "outputs": [],
   "source": [
    "import numpy as np\n",
    "import matplotlib.pyplot as plt\n",
    "from time import time"
   ]
  },
  {
   "cell_type": "code",
   "execution_count": null,
   "id": "7ac727c0-f155-4778-acde-b14719e5d7da",
   "metadata": {},
   "outputs": [],
   "source": []
  },
  {
   "cell_type": "code",
   "execution_count": 3,
   "id": "cbb2e235",
   "metadata": {},
   "outputs": [
    {
     "ename": "NameError",
     "evalue": "name 'plot_hists' is not defined",
     "output_type": "error",
     "traceback": [
      "\u001b[0;31m---------------------------------------------------------------------------\u001b[0m",
      "\u001b[0;31mNameError\u001b[0m                                 Traceback (most recent call last)",
      "Cell \u001b[0;32mIn[3], line 21\u001b[0m\n\u001b[1;32m     17\u001b[0m plt\u001b[38;5;241m.\u001b[39mrc(\u001b[38;5;124m'\u001b[39m\u001b[38;5;124mtext.latex\u001b[39m\u001b[38;5;124m'\u001b[39m, preamble\u001b[38;5;241m=\u001b[39m\u001b[38;5;124mr\u001b[39m\u001b[38;5;124m'\u001b[39m\u001b[38;5;124m\\\u001b[39m\u001b[38;5;124musepackage[russian]\u001b[39m\u001b[38;5;132;01m{babel}\u001b[39;00m\u001b[38;5;124m'\u001b[39m)\n\u001b[1;32m     18\u001b[0m plt\u001b[38;5;241m.\u001b[39mrc(\u001b[38;5;124m'\u001b[39m\u001b[38;5;124mtext.latex\u001b[39m\u001b[38;5;124m'\u001b[39m, preamble\u001b[38;5;241m=\u001b[39m\u001b[38;5;124mr\u001b[39m\u001b[38;5;124m'\u001b[39m\u001b[38;5;124m\\\u001b[39m\u001b[38;5;124musepackage\u001b[39m\u001b[38;5;132;01m{amsmath}\u001b[39;00m\u001b[38;5;124m'\u001b[39m)\n\u001b[0;32m---> 21\u001b[0m \u001b[43mplot_hists\u001b[49m(theta\u001b[38;5;241m=\u001b[39m\u001b[38;5;241m1.5\u001b[39m, n\u001b[38;5;241m=\u001b[39m\u001b[38;5;241m2000\u001b[39m, n_samples\u001b[38;5;241m=\u001b[39m\u001b[38;5;241m4000\u001b[39m)\n",
      "\u001b[0;31mNameError\u001b[0m: name 'plot_hists' is not defined"
     ]
    }
   ],
   "source": [
    "%config InlineBackend.figure_format = 'svg'\n",
    "\n",
    "font = {'family' : 'serif',\n",
    "        'size'   : 17,\n",
    "        'weight' : 'normal'\n",
    "       }\n",
    "\n",
    "plt.rc('font', **font)\n",
    "\n",
    "plt.rc('text', usetex=True)\n",
    "plt.rc('xtick', labelsize=18)\n",
    "plt.rc('ytick', labelsize=18)\n",
    "plt.rc('axes', titlesize=20)\n",
    "plt.rc('legend', fontsize=18)\n",
    "plt.rc('text.latex', preamble=r'\\usepackage[utf8]{inputenc}')\n",
    "plt.rc('text.latex', preamble=r'\\usepackage[T2A]{fontenc}')\n",
    "plt.rc('text.latex', preamble=r'\\usepackage[russian]{babel}')\n",
    "plt.rc('text.latex', preamble=r'\\usepackage{amsmath}')\n",
    "\n",
    "\n",
    "plot_hists(theta=1.5, n=2000, n_samples=4000)"
   ]
  },
  {
   "cell_type": "code",
   "execution_count": null,
   "id": "5442e555-203d-4336-8ad5-c9ca8e385f77",
   "metadata": {},
   "outputs": [],
   "source": []
  }
 ],
 "metadata": {
  "kernelspec": {
   "display_name": "Python 3 (ipykernel)",
   "language": "python",
   "name": "python3"
  },
  "language_info": {
   "codemirror_mode": {
    "name": "ipython",
    "version": 3
   },
   "file_extension": ".py",
   "mimetype": "text/x-python",
   "name": "python",
   "nbconvert_exporter": "python",
   "pygments_lexer": "ipython3",
   "version": "3.9.6"
  }
 },
 "nbformat": 4,
 "nbformat_minor": 5
}
