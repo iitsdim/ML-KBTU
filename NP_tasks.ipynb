{
 "cells": [
  {
   "cell_type": "code",
   "execution_count": 1,
   "id": "d0e5d876",
   "metadata": {},
   "outputs": [],
   "source": [
    "import dataclasses\n",
    "from numpy.testing import assert_array_equal\n",
    "import numpy as np\n",
    "import pandas as pd\n",
    "import numpy.typing as npt"
   ]
  },
  {
   "cell_type": "markdown",
   "id": "92d0fe82",
   "metadata": {},
   "source": [
    "## Construct array from index arrays"
   ]
  },
  {
   "cell_type": "code",
   "execution_count": 70,
   "id": "bfafbf8e",
   "metadata": {},
   "outputs": [],
   "source": [
    "def construct_array(\n",
    "        matrix: npt.NDArray[np.int_],\n",
    "        row_indices: npt.NDArray[np.int_],\n",
    "        col_indices: npt.NDArray[np.int_],\n",
    ") -> npt.NDArray[np.int_]:\n",
    "    \n",
    "    return matrix[row_indices, col_indices]"
   ]
  },
  {
   "cell_type": "code",
   "execution_count": 71,
   "id": "43431df9",
   "metadata": {},
   "outputs": [
    {
     "data": {
      "text/plain": [
       "array([[10, 16, 65, 29],\n",
       "       [90, 94, 30,  9],\n",
       "       [74,  1, 41, 37]])"
      ]
     },
     "execution_count": 71,
     "metadata": {},
     "output_type": "execute_result"
    }
   ],
   "source": [
    "np.random.seed(10)\n",
    "A = np.random.randint(1, 100, size=(3, 4))\n",
    "A"
   ]
  },
  {
   "cell_type": "code",
   "execution_count": 72,
   "id": "2bdc369f",
   "metadata": {},
   "outputs": [
    {
     "data": {
      "text/plain": [
       "array([ 1, 29, 65])"
      ]
     },
     "execution_count": 72,
     "metadata": {},
     "output_type": "execute_result"
    }
   ],
   "source": [
    "construct_array(A, [2, 0, 0], [1, 3, 2])"
   ]
  },
  {
   "cell_type": "code",
   "execution_count": 73,
   "id": "bfdf5a82",
   "metadata": {},
   "outputs": [
    {
     "data": {
      "text/plain": [
       "array([16, 30, 37])"
      ]
     },
     "execution_count": 73,
     "metadata": {},
     "output_type": "execute_result"
    }
   ],
   "source": [
    "construct_array(A, np.arange(3), np.arange(1, 4))"
   ]
  },
  {
   "cell_type": "code",
   "execution_count": 74,
   "id": "6e0877ba",
   "metadata": {},
   "outputs": [],
   "source": [
    "# TESTING AREA\n",
    "\n",
    "@dataclasses.dataclass\n",
    "class ConstructArrayCase:\n",
    "    matrix: npt.NDArray[np.int_]\n",
    "    row_indices: list[int]\n",
    "    col_indices: list[int]\n",
    "    result: npt.NDArray[np.int_]\n",
    "\n",
    "\n",
    "CONSTRUCT_ARRAY_TEST_CASES = [\n",
    "    ConstructArrayCase(matrix=np.array(range(25)).reshape(5, 5),\n",
    "                       row_indices=[0, 1, 2],\n",
    "                       col_indices=[0, 1, 2],\n",
    "                       result=np.array([0, 6, 12])),\n",
    "    ConstructArrayCase(matrix=np.arange(-10, 10).reshape((5, 4)),\n",
    "                       row_indices=[1, 2, 3, 3],\n",
    "                       col_indices=[3, 2, 1, 2],\n",
    "                       result=np.array([-3, 0, 3, 4])),\n",
    "    ConstructArrayCase(matrix=np.arange(42).reshape((7, 6)),\n",
    "                       row_indices=[],\n",
    "                       col_indices=[],\n",
    "                       result=np.array([])),\n",
    "    ConstructArrayCase(matrix=np.arange(42).reshape((7, 6)),\n",
    "                       row_indices=np.arange(4),\n",
    "                       col_indices=np.arange(4),\n",
    "                       result=np.array(np.arange(4)) * 7),\n",
    "    ConstructArrayCase(matrix=np.arange(42).reshape((42, 1)),\n",
    "                       row_indices=[0, 1, 41],\n",
    "                       col_indices=[0, 0, 0],\n",
    "                       result=np.array([0, 1, 41]))\n",
    "]\n",
    "\n",
    "for t in CONSTRUCT_ARRAY_TEST_CASES:\n",
    "    assert_array_equal(construct_array(t.matrix, t.row_indices, t.col_indices), t.result)"
   ]
  },
  {
   "cell_type": "markdown",
   "id": "ef0aef6b",
   "metadata": {},
   "source": [
    "## Detect identic arrays"
   ]
  },
  {
   "cell_type": "code",
   "execution_count": 145,
   "id": "8e4ed591",
   "metadata": {},
   "outputs": [],
   "source": [
    "def detect_identic(\n",
    "        lhs_array: npt.ArrayLike,\n",
    "        rhs_array: npt.ArrayLike\n",
    ") -> bool:\n",
    "    return np.array_equal(lhs_array, rhs_array)"
   ]
  },
  {
   "cell_type": "code",
   "execution_count": 146,
   "id": "cfd2c076",
   "metadata": {},
   "outputs": [
    {
     "data": {
      "text/plain": [
       "True"
      ]
     },
     "execution_count": 146,
     "metadata": {},
     "output_type": "execute_result"
    }
   ],
   "source": [
    "detect_identic(5, 5.0)"
   ]
  },
  {
   "cell_type": "code",
   "execution_count": 147,
   "id": "b79f5f8c",
   "metadata": {},
   "outputs": [
    {
     "data": {
      "text/plain": [
       "True"
      ]
     },
     "execution_count": 147,
     "metadata": {},
     "output_type": "execute_result"
    }
   ],
   "source": [
    "detect_identic('xyz', \"xyz\")"
   ]
  },
  {
   "cell_type": "code",
   "execution_count": 148,
   "id": "11cebef8",
   "metadata": {},
   "outputs": [
    {
     "data": {
      "text/plain": [
       "True"
      ]
     },
     "execution_count": 148,
     "metadata": {},
     "output_type": "execute_result"
    }
   ],
   "source": [
    "detect_identic([1, 2, 45], [1, 2, 45])"
   ]
  },
  {
   "cell_type": "code",
   "execution_count": 149,
   "id": "30d74e9b",
   "metadata": {},
   "outputs": [
    {
     "data": {
      "text/plain": [
       "True"
      ]
     },
     "execution_count": 149,
     "metadata": {},
     "output_type": "execute_result"
    }
   ],
   "source": [
    "detect_identic(np.zeros(10), np.ones(10) - 1)"
   ]
  },
  {
   "cell_type": "code",
   "execution_count": 150,
   "id": "f99c87c3",
   "metadata": {},
   "outputs": [
    {
     "data": {
      "text/plain": [
       "False"
      ]
     },
     "execution_count": 150,
     "metadata": {},
     "output_type": "execute_result"
    }
   ],
   "source": [
    "detect_identic([[0, 1], [2, 3]], np.arange(4))"
   ]
  },
  {
   "cell_type": "code",
   "execution_count": 151,
   "id": "723f24b2",
   "metadata": {},
   "outputs": [
    {
     "data": {
      "text/plain": [
       "True"
      ]
     },
     "execution_count": 151,
     "metadata": {},
     "output_type": "execute_result"
    }
   ],
   "source": [
    "detect_identic([[0, 1], [2, 3]], np.arange(4).reshape((2, 2)))"
   ]
  },
  {
   "cell_type": "code",
   "execution_count": 152,
   "id": "ce763dd7",
   "metadata": {},
   "outputs": [],
   "source": [
    "# TESTING AREA\n",
    "\n",
    "@dataclasses.dataclass\n",
    "class DetectIdenticCase:\n",
    "    lhs_array: npt.ArrayLike\n",
    "    rhs_array: npt.ArrayLike\n",
    "    result: bool\n",
    "\n",
    "\n",
    "DETECT_IDENTIC_TEST_CASES = [\n",
    "    DetectIdenticCase(\n",
    "        lhs_array=np.array([1, 2]),\n",
    "        rhs_array=np.array([1, 2]),\n",
    "        result=True),\n",
    "    DetectIdenticCase(\n",
    "        lhs_array=np.array([1., 2]),\n",
    "        rhs_array=np.array([1, 2.]),\n",
    "        result=True),\n",
    "    DetectIdenticCase(\n",
    "        lhs_array=np.array([1, 2]),\n",
    "        rhs_array=np.array([1.0001, 2]),\n",
    "        result=False),\n",
    "    DetectIdenticCase(\n",
    "        lhs_array=np.array([1, 2]),\n",
    "        rhs_array=np.array([[1, 2]]),\n",
    "        result=False),\n",
    "    DetectIdenticCase(\n",
    "        lhs_array=np.array([[1, 2, 3]]),\n",
    "        rhs_array=np.array([[1, 2]]),\n",
    "        result=False),\n",
    "    DetectIdenticCase(\n",
    "        lhs_array=np.array([]),\n",
    "        rhs_array=np.array([]),\n",
    "        result=True),\n",
    "    DetectIdenticCase(\n",
    "        lhs_array=3,\n",
    "        rhs_array=3,\n",
    "        result=True),\n",
    "    DetectIdenticCase(\n",
    "        lhs_array=np.array(range(3)),\n",
    "        rhs_array=np.array(range(3))[np.newaxis, :],\n",
    "        result=False),\n",
    "]\n",
    "\n",
    "for t in DETECT_IDENTIC_TEST_CASES:\n",
    "    assert_array_equal(detect_identic(t.lhs_array, t.rhs_array), t.result)"
   ]
  },
  {
   "cell_type": "markdown",
   "id": "02b2ee72",
   "metadata": {},
   "source": [
    "## Mean channel"
   ]
  },
  {
   "cell_type": "code",
   "execution_count": 84,
   "id": "b0584bb5",
   "metadata": {},
   "outputs": [],
   "source": [
    "def mean_channel(X: npt.NDArray[np.float_]) -> npt.NDArray[np.float_]:\n",
    "    \"\"\"\n",
    "    Given color image (3-dimensional array of size (n, m, 3).\n",
    "    Compute average value for all 3 channels\n",
    "    :param X: color image\n",
    "    :return: array of size 3 with average values\n",
    "    \"\"\"\n",
    "    return np.mean(X, axis=(0, 1))"
   ]
  },
  {
   "cell_type": "code",
   "execution_count": 85,
   "id": "dd8bc5a1",
   "metadata": {},
   "outputs": [],
   "source": [
    "A = np.arange(60).reshape(4, 5, 3)"
   ]
  },
  {
   "cell_type": "code",
   "execution_count": 86,
   "id": "c5c5e316",
   "metadata": {},
   "outputs": [
    {
     "data": {
      "text/plain": [
       "array([28.5, 29.5, 30.5])"
      ]
     },
     "execution_count": 86,
     "metadata": {},
     "output_type": "execute_result"
    }
   ],
   "source": [
    "np.mean(A, axis=(0, 1))"
   ]
  },
  {
   "cell_type": "code",
   "execution_count": 87,
   "id": "2c7c458f",
   "metadata": {},
   "outputs": [
    {
     "data": {
      "text/plain": [
       "array([22.5, 23.5, 24.5])"
      ]
     },
     "execution_count": 87,
     "metadata": {},
     "output_type": "execute_result"
    }
   ],
   "source": [
    "A = np.arange(48).reshape(4, 4, 3)\n",
    "mean_channel(A)"
   ]
  },
  {
   "cell_type": "code",
   "execution_count": 88,
   "id": "5c318a2a",
   "metadata": {},
   "outputs": [
    {
     "data": {
      "text/plain": [
       "array([0.50007022, 0.50073281, 0.49993379])"
      ]
     },
     "execution_count": 88,
     "metadata": {},
     "output_type": "execute_result"
    }
   ],
   "source": [
    "A = np.random.rand(1920, 1080, 3)\n",
    "mean_channel(A)"
   ]
  },
  {
   "cell_type": "code",
   "execution_count": 153,
   "id": "4ea8682e",
   "metadata": {},
   "outputs": [],
   "source": [
    "# TESTING AREA\n",
    "\n",
    "@dataclasses.dataclass\n",
    "class MeanChannelCase:\n",
    "    X: npt.NDArray[np.float_]\n",
    "    result: npt.NDArray[np.float_]\n",
    "\n",
    "\n",
    "MEAN_CHANNEL_TEST_CASES = [\n",
    "    MeanChannelCase(\n",
    "        X=np.array(range(5 * 5 * 3)).reshape(5, 5, 3),\n",
    "        result=np.array([36, 37, 38])),\n",
    "    MeanChannelCase(\n",
    "        X=np.dstack((\n",
    "            (np.arange(320 * 240) % 64).reshape(320, 240),\n",
    "            (np.arange(320 * 240) % 64).reshape(320, 240) * 2,\n",
    "            (np.arange(320 * 240) % 64).reshape(320, 240) * 3)),\n",
    "        result=np.array([31.5, 63., 94.5])),\n",
    "    MeanChannelCase(\n",
    "        X=np.array([]).reshape(0, 0, 3),\n",
    "        result=np.array([np.nan, np.nan, np.nan]))\n",
    "]\n",
    "\n",
    "for t in MEAN_CHANNEL_TEST_CASES:\n",
    "    assert_array_equal(mean_channel(t.X), t.result)"
   ]
  },
  {
   "cell_type": "markdown",
   "id": "bebf786b",
   "metadata": {},
   "source": [
    "## Unique rows"
   ]
  },
  {
   "cell_type": "code",
   "execution_count": 90,
   "id": "460c86d9",
   "metadata": {},
   "outputs": [],
   "source": [
    "def get_unique_rows(X: npt.NDArray[np.int_]) -> npt.NDArray[np.int_]:\n",
    "    \"\"\"\n",
    "    Compute unique rows of matrix\n",
    "    :param X: matrix\n",
    "    :return: matrix of unique rows\n",
    "    \"\"\"\n",
    "    return np.unique(X, axis=(0))"
   ]
  },
  {
   "cell_type": "code",
   "execution_count": 91,
   "id": "93cd6b91",
   "metadata": {},
   "outputs": [
    {
     "data": {
      "text/plain": [
       "array([[1, 2],\n",
       "       [2, 1],\n",
       "       [1, 2]])"
      ]
     },
     "execution_count": 91,
     "metadata": {},
     "output_type": "execute_result"
    }
   ],
   "source": [
    "A = np.array([[1, 2], [2, 1], [1, 2]])\n",
    "A"
   ]
  },
  {
   "cell_type": "code",
   "execution_count": 92,
   "id": "bbe86eaf",
   "metadata": {},
   "outputs": [],
   "source": [
    "# TESTING AREA\n",
    "\n",
    "@dataclasses.dataclass\n",
    "class GetUniqueRowsCase:\n",
    "    X: npt.NDArray[np.int_]\n",
    "    result: npt.NDArray[np.int_]\n",
    "\n",
    "\n",
    "GET_UNIQUE_ROWS_TEST_CASES = [\n",
    "    GetUniqueRowsCase(\n",
    "        X=np.array([[1, 2, 3]]),\n",
    "        result=np.array([[1, 2, 3]])),\n",
    "    GetUniqueRowsCase(\n",
    "        X=np.array([[4, 5, 6], [0, 1, 2], [1, 2, 3], [0, 1, 2], [4, 5, 6], [1, 2, 3]]),\n",
    "        result=np.array([[0, 1, 2], [1, 2, 3], [4, 5, 6]])),\n",
    "]\n",
    "\n",
    "for t in GET_UNIQUE_ROWS_TEST_CASES:\n",
    "    assert_array_equal(get_unique_rows(t.X), t.result)"
   ]
  },
  {
   "cell_type": "markdown",
   "id": "726ccafb",
   "metadata": {},
   "source": [
    "## Construct matrix"
   ]
  },
  {
   "cell_type": "code",
   "execution_count": 154,
   "id": "97fea5f8",
   "metadata": {},
   "outputs": [],
   "source": [
    "def construct_matrix(\n",
    "        arr1: npt.NDArray[np.int_], arr2: npt.NDArray[np.int_]\n",
    ") -> npt.NDArray[np.int_]:\n",
    "    \"\"\"\n",
    "    Construct matrix from pair of arrays\n",
    "    :param first_array: first array\n",
    "    :param second_array: second array\n",
    "    :return: constructed matrix\n",
    "    \"\"\"\n",
    "    return np.vstack((arr1, arr2)).T"
   ]
  },
  {
   "cell_type": "code",
   "execution_count": 155,
   "id": "80948bb7",
   "metadata": {},
   "outputs": [
    {
     "data": {
      "text/plain": [
       "array([[-1, 10],\n",
       "       [-2, 20],\n",
       "       [-3, 30]])"
      ]
     },
     "execution_count": 155,
     "metadata": {},
     "output_type": "execute_result"
    }
   ],
   "source": [
    "construct_matrix([-1, -2, -3], [10, 20, 30])"
   ]
  },
  {
   "cell_type": "code",
   "execution_count": 156,
   "id": "c2f52cc6",
   "metadata": {},
   "outputs": [],
   "source": [
    "@dataclasses.dataclass\n",
    "class ConstructMatrixCase:\n",
    "    first_array: npt.NDArray[np.int_]\n",
    "    second_array: npt.NDArray[np.int_]\n",
    "    result: npt.NDArray[np.int_]\n",
    "\n",
    "\n",
    "CONSTRUCT_MATRIX_TEST_CASES = [\n",
    "    ConstructMatrixCase(\n",
    "        first_array=np.array([1, 2, 3]),\n",
    "        second_array=np.array([4, 5, 6]),\n",
    "        result=np.array([[1, 4], [2, 5], [3, 6]])),\n",
    "    ConstructMatrixCase(\n",
    "        first_array=np.array([]),\n",
    "        second_array=np.array([]),\n",
    "        result=np.array([]).reshape(0, 2)),\n",
    "    ConstructMatrixCase(\n",
    "        first_array=np.array([1]),\n",
    "        second_array=np.array([2]),\n",
    "        result=np.array([[1, 2]])),\n",
    "    ConstructMatrixCase(\n",
    "        first_array=np.arange(0, 100, 2),\n",
    "        second_array=np.arange(1, 100, 2),\n",
    "        result=np.arange(100).reshape(50, 2))\n",
    "]\n",
    "\n",
    "for t in CONSTRUCT_MATRIX_TEST_CASES:\n",
    "    assert_array_equal(construct_matrix(t.first_array, t.second_array), t.result)"
   ]
  },
  {
   "cell_type": "markdown",
   "id": "f31f9fdf",
   "metadata": {},
   "source": [
    "## Add zeros"
   ]
  },
  {
   "cell_type": "code",
   "execution_count": 178,
   "id": "192b6908",
   "metadata": {},
   "outputs": [],
   "source": [
    "import numpy as np\n",
    "import numpy.typing as npt\n",
    "\n",
    "\n",
    "def add_zeros(x: npt.NDArray[np.int_]) -> npt.NDArray[np.int_]:\n",
    "    \"\"\"\n",
    "    Add zeros between values of given array\n",
    "    E.g.: [-1, 3, 5] -> [-1, 0, 3, 0, 5]\n",
    "    :param x: array,\n",
    "    :return: array with zeros inserted\n",
    "    \"\"\"\n",
    "    return np.insert(x, np.arange(1, len(x)), 0)"
   ]
  },
  {
   "cell_type": "code",
   "execution_count": 179,
   "id": "8234fb7e",
   "metadata": {},
   "outputs": [
    {
     "data": {
      "text/plain": [
       "array([-1,  0,  3,  0,  5,  0,  2])"
      ]
     },
     "execution_count": 179,
     "metadata": {},
     "output_type": "execute_result"
    }
   ],
   "source": [
    "add_zeros([-1, 3, 5, 2])"
   ]
  },
  {
   "cell_type": "code",
   "execution_count": 180,
   "id": "1ac12d04",
   "metadata": {},
   "outputs": [
    {
     "data": {
      "text/plain": [
       "array([1])"
      ]
     },
     "execution_count": 180,
     "metadata": {},
     "output_type": "execute_result"
    }
   ],
   "source": [
    "add_zeros([1])"
   ]
  },
  {
   "cell_type": "code",
   "execution_count": 181,
   "id": "316878f3",
   "metadata": {},
   "outputs": [
    {
     "data": {
      "text/plain": [
       "array([], dtype=float64)"
      ]
     },
     "execution_count": 181,
     "metadata": {},
     "output_type": "execute_result"
    }
   ],
   "source": [
    "add_zeros([])"
   ]
  },
  {
   "cell_type": "markdown",
   "id": "955f4af6",
   "metadata": {},
   "source": [
    "## Max element after 0"
   ]
  },
  {
   "cell_type": "code",
   "execution_count": 173,
   "id": "eb0a79c5",
   "metadata": {},
   "outputs": [
    {
     "ename": "TypeError",
     "evalue": "unsupported operand type(s) for |: 'type' and 'NoneType'",
     "output_type": "error",
     "traceback": [
      "\u001b[0;31m---------------------------------------------------------------------------\u001b[0m",
      "\u001b[0;31mTypeError\u001b[0m                                 Traceback (most recent call last)",
      "Cell \u001b[0;32mIn[173], line 1\u001b[0m\n\u001b[0;32m----> 1\u001b[0m \u001b[38;5;28;01mdef\u001b[39;00m \u001b[38;5;21mmax_element\u001b[39m(arr: npt\u001b[38;5;241m.\u001b[39mNDArray[np\u001b[38;5;241m.\u001b[39mint_]) \u001b[38;5;241m-\u001b[39m\u001b[38;5;241m>\u001b[39m \u001b[38;5;28;43mint\u001b[39;49m\u001b[43m \u001b[49m\u001b[38;5;241;43m|\u001b[39;49m\u001b[43m \u001b[49m\u001b[38;5;28;43;01mNone\u001b[39;49;00m:\n\u001b[1;32m      2\u001b[0m \u001b[38;5;250m    \u001b[39m\u001b[38;5;124;03m\"\"\"\u001b[39;00m\n\u001b[1;32m      3\u001b[0m \u001b[38;5;124;03m    Return max element after zero for input array.\u001b[39;00m\n\u001b[1;32m      4\u001b[0m \u001b[38;5;124;03m    If appropriate elements are absent, then return None\u001b[39;00m\n\u001b[0;32m   (...)\u001b[0m\n\u001b[1;32m      7\u001b[0m \u001b[38;5;124;03m    :return: max element value or None\u001b[39;00m\n\u001b[1;32m      8\u001b[0m \u001b[38;5;124;03m    \"\"\"\u001b[39;00m\n\u001b[1;32m      9\u001b[0m     \u001b[38;5;28;01mreturn\u001b[39;00m np\u001b[38;5;241m.\u001b[39mmax(arr)\n",
      "\u001b[0;31mTypeError\u001b[0m: unsupported operand type(s) for |: 'type' and 'NoneType'"
     ]
    }
   ],
   "source": [
    "def max_element(arr: npt.NDArray[np.int_]) -> int | None:\n",
    "    \"\"\"\n",
    "    Return max element after zero for input array.\n",
    "    If appropriate elements are absent, then return None\n",
    "    E.g., [6, 2, 0, 3, 0, 0, 5, 7, 0] -> 5\n",
    "    :param array: array,r\n",
    "    :return: max element value or None\n",
    "    \"\"\"\n",
    "    return "
   ]
  },
  {
   "cell_type": "code",
   "execution_count": 171,
   "id": "bb4c0ce3-e360-4d24-ad0a-9db83cb75102",
   "metadata": {},
   "outputs": [
    {
     "ename": "NameError",
     "evalue": "name 'max_element' is not defined",
     "output_type": "error",
     "traceback": [
      "\u001b[0;31m---------------------------------------------------------------------------\u001b[0m",
      "\u001b[0;31mNameError\u001b[0m                                 Traceback (most recent call last)",
      "Cell \u001b[0;32mIn[171], line 1\u001b[0m\n\u001b[0;32m----> 1\u001b[0m \u001b[43mmax_element\u001b[49m([\u001b[38;5;241m6\u001b[39m, \u001b[38;5;241m2\u001b[39m, \u001b[38;5;241m0\u001b[39m, \u001b[38;5;241m3\u001b[39m, \u001b[38;5;241m0\u001b[39m, \u001b[38;5;241m0\u001b[39m, \u001b[38;5;241m5\u001b[39m, \u001b[38;5;241m7\u001b[39m, \u001b[38;5;241m0\u001b[39m])\n",
      "\u001b[0;31mNameError\u001b[0m: name 'max_element' is not defined"
     ]
    }
   ],
   "source": [
    "max_element([6, 2, 0, 3, 0, 0, 5, 7, 0])"
   ]
  },
  {
   "cell_type": "markdown",
   "id": "59436751",
   "metadata": {},
   "source": [
    "## Nearest value"
   ]
  },
  {
   "cell_type": "code",
   "execution_count": 219,
   "id": "ad2f3047",
   "metadata": {},
   "outputs": [],
   "source": [
    "def nearest_value(matrix: npt.NDArray[np.float_], value: float) -> float:\n",
    "    \"\"\"\n",
    "    Find nearest value in matrix.\n",
    "    If matrix is empty return None\n",
    "    E.g., matrix = np.arange(0,10).reshape((2, 5)) and value = 3.6 give 4\n",
    "    :param matrix: input matrix\n",
    "    :param value: value to find\n",
    "    :return: nearest value in matrix or None\n",
    "    \"\"\"\n",
    "    matrix = matrix.flatten()\n",
    "    if len(matrix) == 0:\n",
    "        return 0\n",
    "    diff = np.absolute(matrix-value)\n",
    "    return matrix[diff.argmin()]"
   ]
  },
  {
   "cell_type": "code",
   "execution_count": 220,
   "id": "f9888d7c",
   "metadata": {},
   "outputs": [
    {
     "data": {
      "text/plain": [
       "array([[0, 1, 2, 3, 4],\n",
       "       [5, 6, 7, 8, 9]])"
      ]
     },
     "execution_count": 220,
     "metadata": {},
     "output_type": "execute_result"
    }
   ],
   "source": [
    "matrix = np.arange(0,10).reshape((2, 5))\n",
    "matrix"
   ]
  },
  {
   "cell_type": "code",
   "execution_count": 221,
   "id": "ebd88c97",
   "metadata": {},
   "outputs": [
    {
     "data": {
      "text/plain": [
       "9"
      ]
     },
     "execution_count": 221,
     "metadata": {},
     "output_type": "execute_result"
    }
   ],
   "source": [
    "nearest_value(matrix, 12.3)"
   ]
  },
  {
   "cell_type": "markdown",
   "id": "ab927824",
   "metadata": {},
   "source": [
    "## Nonzero value"
   ]
  },
  {
   "cell_type": "code",
   "execution_count": 237,
   "id": "0d068374",
   "metadata": {},
   "outputs": [
    {
     "ename": "TypeError",
     "evalue": "unsupported operand type(s) for |: 'type' and 'NoneType'",
     "output_type": "error",
     "traceback": [
      "\u001b[0;31m---------------------------------------------------------------------------\u001b[0m",
      "\u001b[0;31mTypeError\u001b[0m                                 Traceback (most recent call last)",
      "Cell \u001b[0;32mIn[237], line 1\u001b[0m\n\u001b[0;32m----> 1\u001b[0m \u001b[38;5;28;01mdef\u001b[39;00m \u001b[38;5;21mnonzero_product\u001b[39m(matrix: npt\u001b[38;5;241m.\u001b[39mNDArray[np\u001b[38;5;241m.\u001b[39mint_]) \u001b[38;5;241m-\u001b[39m\u001b[38;5;241m>\u001b[39m \u001b[38;5;28;43mint\u001b[39;49m\u001b[43m \u001b[49m\u001b[38;5;241;43m|\u001b[39;49m\u001b[43m \u001b[49m\u001b[38;5;28;43;01mNone\u001b[39;49;00m:\n\u001b[1;32m      2\u001b[0m \u001b[38;5;250m    \u001b[39m\u001b[38;5;124;03m\"\"\"\u001b[39;00m\n\u001b[1;32m      3\u001b[0m \u001b[38;5;124;03m    Compute product of nonzero diagonal elements of matrix\u001b[39;00m\n\u001b[1;32m      4\u001b[0m \u001b[38;5;124;03m    If all diagonal elements are zeros, then return None\u001b[39;00m\n\u001b[1;32m      5\u001b[0m \u001b[38;5;124;03m    :param matrix: array,\u001b[39;00m\n\u001b[1;32m      6\u001b[0m \u001b[38;5;124;03m    :return: product value or None\u001b[39;00m\n\u001b[1;32m      7\u001b[0m \u001b[38;5;124;03m    \"\"\"\u001b[39;00m\n\u001b[1;32m      8\u001b[0m     diag \u001b[38;5;241m=\u001b[39m np\u001b[38;5;241m.\u001b[39mdiag(matrix)\n",
      "\u001b[0;31mTypeError\u001b[0m: unsupported operand type(s) for |: 'type' and 'NoneType'"
     ]
    }
   ],
   "source": [
    "def nonzero_product(matrix: npt.NDArray[np.int_]) -> int | None:\n",
    "    \"\"\"\n",
    "    Compute product of nonzero diagonal elements of matrix\n",
    "    If all diagonal elements are zeros, then return None\n",
    "    :param matrix: array,\n",
    "    :return: product value or None\n",
    "    \"\"\"\n",
    "    diag = np.diag(matrix)\n",
    "    diag = diag[np.nonzero(diag)]\n",
    "    if diag.size == 0:\n",
    "        return None\n",
    "    return diag.product()"
   ]
  },
  {
   "cell_type": "code",
   "execution_count": 238,
   "id": "7c452da1",
   "metadata": {},
   "outputs": [
    {
     "data": {
      "text/plain": [
       "array([[  1.77764675,   6.83242204,   8.71165316,   1.35584914],\n",
       "       [  7.14395059,   9.0446926 ,   2.22980118, -10.89837793],\n",
       "       [ -3.92416257,  -1.51824286,  -1.5027401 ,   2.24884784]])"
      ]
     },
     "execution_count": 238,
     "metadata": {},
     "output_type": "execute_result"
    }
   ],
   "source": [
    "A = np.random.normal(2, 4, (3, 4))\n",
    "A"
   ]
  },
  {
   "cell_type": "code",
   "execution_count": 239,
   "id": "0ca87a79",
   "metadata": {},
   "outputs": [
    {
     "data": {
      "text/plain": [
       "array([ 1.77764675,  9.0446926 , -1.5027401 ])"
      ]
     },
     "execution_count": 239,
     "metadata": {},
     "output_type": "execute_result"
    }
   ],
   "source": [
    "np.diag(A)"
   ]
  },
  {
   "cell_type": "code",
   "execution_count": 240,
   "id": "91f32a3a",
   "metadata": {},
   "outputs": [
    {
     "ename": "TypeError",
     "evalue": "'int' object is not callable",
     "output_type": "error",
     "traceback": [
      "\u001b[0;31m---------------------------------------------------------------------------\u001b[0m",
      "\u001b[0;31mTypeError\u001b[0m                                 Traceback (most recent call last)",
      "Cell \u001b[0;32mIn[240], line 1\u001b[0m\n\u001b[0;32m----> 1\u001b[0m \u001b[43mnonzero_product\u001b[49m\u001b[43m(\u001b[49m\u001b[43mA\u001b[49m\u001b[43m)\u001b[49m\n",
      "Cell \u001b[0;32mIn[229], line 10\u001b[0m, in \u001b[0;36mnonzero_product\u001b[0;34m(matrix)\u001b[0m\n\u001b[1;32m      8\u001b[0m diag \u001b[38;5;241m=\u001b[39m np\u001b[38;5;241m.\u001b[39mdiag(matrix)\n\u001b[1;32m      9\u001b[0m diag \u001b[38;5;241m=\u001b[39m diag[np\u001b[38;5;241m.\u001b[39mnonzero(diag)]\n\u001b[0;32m---> 10\u001b[0m \u001b[38;5;28;01mif\u001b[39;00m \u001b[43mdiag\u001b[49m\u001b[38;5;241;43m.\u001b[39;49m\u001b[43msize\u001b[49m\u001b[43m(\u001b[49m\u001b[43m)\u001b[49m \u001b[38;5;241m==\u001b[39m \u001b[38;5;241m0\u001b[39m:\n\u001b[1;32m     11\u001b[0m     \u001b[38;5;28;01mreturn\u001b[39;00m \u001b[38;5;28;01mNone\u001b[39;00m\n\u001b[1;32m     12\u001b[0m \u001b[38;5;28;01mreturn\u001b[39;00m diag\u001b[38;5;241m.\u001b[39mproduct()\n",
      "\u001b[0;31mTypeError\u001b[0m: 'int' object is not callable"
     ]
    }
   ],
   "source": [
    "nonzero_product(A)"
   ]
  },
  {
   "cell_type": "code",
   "execution_count": 241,
   "id": "3e5df37a",
   "metadata": {},
   "outputs": [
    {
     "data": {
      "text/plain": [
       "array([[1, 2],\n",
       "       [3, 0]])"
      ]
     },
     "execution_count": 241,
     "metadata": {},
     "output_type": "execute_result"
    }
   ],
   "source": [
    "B = np.array([[1, 2], [3, 0]])\n",
    "B"
   ]
  },
  {
   "cell_type": "code",
   "execution_count": 123,
   "id": "a7a914ff",
   "metadata": {},
   "outputs": [
    {
     "data": {
      "text/plain": [
       "1"
      ]
     },
     "execution_count": 123,
     "metadata": {},
     "output_type": "execute_result"
    }
   ],
   "source": [
    "nonzero_product(B)"
   ]
  },
  {
   "cell_type": "code",
   "execution_count": 120,
   "id": "fd1e1de7",
   "metadata": {},
   "outputs": [
    {
     "data": {
      "text/plain": [
       "array([[0, 2],\n",
       "       [3, 0]])"
      ]
     },
     "execution_count": 120,
     "metadata": {},
     "output_type": "execute_result"
    }
   ],
   "source": [
    "C = np.array([[0, 2], [3, 0]])\n",
    "C"
   ]
  },
  {
   "cell_type": "code",
   "execution_count": 128,
   "id": "e638dc2c",
   "metadata": {},
   "outputs": [
    {
     "name": "stdout",
     "output_type": "stream",
     "text": [
      "None\n"
     ]
    }
   ],
   "source": [
    "print(nonzero_product(C))"
   ]
  },
  {
   "cell_type": "markdown",
   "id": "7eb223c8",
   "metadata": {},
   "source": [
    "## Titanic"
   ]
  },
  {
   "cell_type": "code",
   "execution_count": 247,
   "id": "b4d072d6",
   "metadata": {},
   "outputs": [
    {
     "data": {
      "text/plain": [
       "(891, 12)"
      ]
     },
     "execution_count": 247,
     "metadata": {},
     "output_type": "execute_result"
    }
   ],
   "source": [
    "df = pd.read_csv('titanic.csv')\n",
    "df.shape"
   ]
  },
  {
   "cell_type": "code",
   "execution_count": 248,
   "id": "5bd9d044",
   "metadata": {},
   "outputs": [
    {
     "name": "stdout",
     "output_type": "stream",
     "text": [
      "<class 'pandas.core.frame.DataFrame'>\n",
      "RangeIndex: 891 entries, 0 to 890\n",
      "Data columns (total 12 columns):\n",
      " #   Column       Non-Null Count  Dtype  \n",
      "---  ------       --------------  -----  \n",
      " 0   PassengerId  891 non-null    int64  \n",
      " 1   Survived     891 non-null    int64  \n",
      " 2   Pclass       891 non-null    int64  \n",
      " 3   Name         891 non-null    object \n",
      " 4   Sex          891 non-null    object \n",
      " 5   Age          714 non-null    float64\n",
      " 6   SibSp        891 non-null    int64  \n",
      " 7   Parch        891 non-null    int64  \n",
      " 8   Ticket       891 non-null    object \n",
      " 9   Fare         891 non-null    float64\n",
      " 10  Cabin        204 non-null    object \n",
      " 11  Embarked     889 non-null    object \n",
      "dtypes: float64(2), int64(5), object(5)\n",
      "memory usage: 83.7+ KB\n"
     ]
    }
   ],
   "source": [
    "df.info()"
   ]
  },
  {
   "cell_type": "code",
   "execution_count": 249,
   "id": "de52ae77",
   "metadata": {},
   "outputs": [
    {
     "data": {
      "text/plain": [
       "Index(['Age', 'Cabin', 'Embarked'], dtype='object')"
      ]
     },
     "execution_count": 249,
     "metadata": {},
     "output_type": "execute_result"
    }
   ],
   "source": [
    "df.columns[df.isna().any()]"
   ]
  },
  {
   "cell_type": "code",
   "execution_count": 250,
   "id": "8e9aab14",
   "metadata": {},
   "outputs": [
    {
     "data": {
      "text/plain": [
       "PassengerId    False\n",
       "Survived       False\n",
       "Pclass         False\n",
       "Name           False\n",
       "Sex            False\n",
       "Age             True\n",
       "SibSp          False\n",
       "Parch          False\n",
       "Ticket         False\n",
       "Fare           False\n",
       "Cabin           True\n",
       "Embarked        True\n",
       "dtype: bool"
      ]
     },
     "execution_count": 250,
     "metadata": {},
     "output_type": "execute_result"
    }
   ],
   "source": [
    "df.isna().any()"
   ]
  },
  {
   "cell_type": "code",
   "execution_count": 251,
   "id": "0f6a4ade",
   "metadata": {},
   "outputs": [
    {
     "data": {
      "text/html": [
       "<div>\n",
       "<style scoped>\n",
       "    .dataframe tbody tr th:only-of-type {\n",
       "        vertical-align: middle;\n",
       "    }\n",
       "\n",
       "    .dataframe tbody tr th {\n",
       "        vertical-align: top;\n",
       "    }\n",
       "\n",
       "    .dataframe thead th {\n",
       "        text-align: right;\n",
       "    }\n",
       "</style>\n",
       "<table border=\"1\" class=\"dataframe\">\n",
       "  <thead>\n",
       "    <tr style=\"text-align: right;\">\n",
       "      <th></th>\n",
       "      <th>PassengerId</th>\n",
       "      <th>Survived</th>\n",
       "      <th>Pclass</th>\n",
       "      <th>Name</th>\n",
       "      <th>Sex</th>\n",
       "      <th>Age</th>\n",
       "      <th>SibSp</th>\n",
       "      <th>Parch</th>\n",
       "      <th>Ticket</th>\n",
       "      <th>Fare</th>\n",
       "      <th>Cabin</th>\n",
       "      <th>Embarked</th>\n",
       "    </tr>\n",
       "  </thead>\n",
       "  <tbody>\n",
       "    <tr>\n",
       "      <th>0</th>\n",
       "      <td>1</td>\n",
       "      <td>0</td>\n",
       "      <td>3</td>\n",
       "      <td>Braund, Mr. Owen Harris</td>\n",
       "      <td>male</td>\n",
       "      <td>22.0</td>\n",
       "      <td>1</td>\n",
       "      <td>0</td>\n",
       "      <td>A/5 21171</td>\n",
       "      <td>7.2500</td>\n",
       "      <td>NaN</td>\n",
       "      <td>S</td>\n",
       "    </tr>\n",
       "    <tr>\n",
       "      <th>1</th>\n",
       "      <td>2</td>\n",
       "      <td>1</td>\n",
       "      <td>1</td>\n",
       "      <td>Cumings, Mrs. John Bradley (Florence Briggs Th...</td>\n",
       "      <td>female</td>\n",
       "      <td>38.0</td>\n",
       "      <td>1</td>\n",
       "      <td>0</td>\n",
       "      <td>PC 17599</td>\n",
       "      <td>71.2833</td>\n",
       "      <td>C85</td>\n",
       "      <td>C</td>\n",
       "    </tr>\n",
       "    <tr>\n",
       "      <th>2</th>\n",
       "      <td>3</td>\n",
       "      <td>1</td>\n",
       "      <td>3</td>\n",
       "      <td>Heikkinen, Miss. Laina</td>\n",
       "      <td>female</td>\n",
       "      <td>26.0</td>\n",
       "      <td>0</td>\n",
       "      <td>0</td>\n",
       "      <td>STON/O2. 3101282</td>\n",
       "      <td>7.9250</td>\n",
       "      <td>NaN</td>\n",
       "      <td>S</td>\n",
       "    </tr>\n",
       "    <tr>\n",
       "      <th>3</th>\n",
       "      <td>4</td>\n",
       "      <td>1</td>\n",
       "      <td>1</td>\n",
       "      <td>Futrelle, Mrs. Jacques Heath (Lily May Peel)</td>\n",
       "      <td>female</td>\n",
       "      <td>35.0</td>\n",
       "      <td>1</td>\n",
       "      <td>0</td>\n",
       "      <td>113803</td>\n",
       "      <td>53.1000</td>\n",
       "      <td>C123</td>\n",
       "      <td>S</td>\n",
       "    </tr>\n",
       "    <tr>\n",
       "      <th>4</th>\n",
       "      <td>5</td>\n",
       "      <td>0</td>\n",
       "      <td>3</td>\n",
       "      <td>Allen, Mr. William Henry</td>\n",
       "      <td>male</td>\n",
       "      <td>35.0</td>\n",
       "      <td>0</td>\n",
       "      <td>0</td>\n",
       "      <td>373450</td>\n",
       "      <td>8.0500</td>\n",
       "      <td>NaN</td>\n",
       "      <td>S</td>\n",
       "    </tr>\n",
       "    <tr>\n",
       "      <th>5</th>\n",
       "      <td>6</td>\n",
       "      <td>0</td>\n",
       "      <td>3</td>\n",
       "      <td>Moran, Mr. James</td>\n",
       "      <td>male</td>\n",
       "      <td>NaN</td>\n",
       "      <td>0</td>\n",
       "      <td>0</td>\n",
       "      <td>330877</td>\n",
       "      <td>8.4583</td>\n",
       "      <td>NaN</td>\n",
       "      <td>Q</td>\n",
       "    </tr>\n",
       "    <tr>\n",
       "      <th>6</th>\n",
       "      <td>7</td>\n",
       "      <td>0</td>\n",
       "      <td>1</td>\n",
       "      <td>McCarthy, Mr. Timothy J</td>\n",
       "      <td>male</td>\n",
       "      <td>54.0</td>\n",
       "      <td>0</td>\n",
       "      <td>0</td>\n",
       "      <td>17463</td>\n",
       "      <td>51.8625</td>\n",
       "      <td>E46</td>\n",
       "      <td>S</td>\n",
       "    </tr>\n",
       "    <tr>\n",
       "      <th>7</th>\n",
       "      <td>8</td>\n",
       "      <td>0</td>\n",
       "      <td>3</td>\n",
       "      <td>Palsson, Master. Gosta Leonard</td>\n",
       "      <td>male</td>\n",
       "      <td>2.0</td>\n",
       "      <td>3</td>\n",
       "      <td>1</td>\n",
       "      <td>349909</td>\n",
       "      <td>21.0750</td>\n",
       "      <td>NaN</td>\n",
       "      <td>S</td>\n",
       "    </tr>\n",
       "    <tr>\n",
       "      <th>8</th>\n",
       "      <td>9</td>\n",
       "      <td>1</td>\n",
       "      <td>3</td>\n",
       "      <td>Johnson, Mrs. Oscar W (Elisabeth Vilhelmina Berg)</td>\n",
       "      <td>female</td>\n",
       "      <td>27.0</td>\n",
       "      <td>0</td>\n",
       "      <td>2</td>\n",
       "      <td>347742</td>\n",
       "      <td>11.1333</td>\n",
       "      <td>NaN</td>\n",
       "      <td>S</td>\n",
       "    </tr>\n",
       "    <tr>\n",
       "      <th>9</th>\n",
       "      <td>10</td>\n",
       "      <td>1</td>\n",
       "      <td>2</td>\n",
       "      <td>Nasser, Mrs. Nicholas (Adele Achem)</td>\n",
       "      <td>female</td>\n",
       "      <td>14.0</td>\n",
       "      <td>1</td>\n",
       "      <td>0</td>\n",
       "      <td>237736</td>\n",
       "      <td>30.0708</td>\n",
       "      <td>NaN</td>\n",
       "      <td>C</td>\n",
       "    </tr>\n",
       "    <tr>\n",
       "      <th>10</th>\n",
       "      <td>11</td>\n",
       "      <td>1</td>\n",
       "      <td>3</td>\n",
       "      <td>Sandstrom, Miss. Marguerite Rut</td>\n",
       "      <td>female</td>\n",
       "      <td>4.0</td>\n",
       "      <td>1</td>\n",
       "      <td>1</td>\n",
       "      <td>PP 9549</td>\n",
       "      <td>16.7000</td>\n",
       "      <td>G6</td>\n",
       "      <td>S</td>\n",
       "    </tr>\n",
       "  </tbody>\n",
       "</table>\n",
       "</div>"
      ],
      "text/plain": [
       "    PassengerId  Survived  Pclass  \\\n",
       "0             1         0       3   \n",
       "1             2         1       1   \n",
       "2             3         1       3   \n",
       "3             4         1       1   \n",
       "4             5         0       3   \n",
       "5             6         0       3   \n",
       "6             7         0       1   \n",
       "7             8         0       3   \n",
       "8             9         1       3   \n",
       "9            10         1       2   \n",
       "10           11         1       3   \n",
       "\n",
       "                                                 Name     Sex   Age  SibSp  \\\n",
       "0                             Braund, Mr. Owen Harris    male  22.0      1   \n",
       "1   Cumings, Mrs. John Bradley (Florence Briggs Th...  female  38.0      1   \n",
       "2                              Heikkinen, Miss. Laina  female  26.0      0   \n",
       "3        Futrelle, Mrs. Jacques Heath (Lily May Peel)  female  35.0      1   \n",
       "4                            Allen, Mr. William Henry    male  35.0      0   \n",
       "5                                    Moran, Mr. James    male   NaN      0   \n",
       "6                             McCarthy, Mr. Timothy J    male  54.0      0   \n",
       "7                      Palsson, Master. Gosta Leonard    male   2.0      3   \n",
       "8   Johnson, Mrs. Oscar W (Elisabeth Vilhelmina Berg)  female  27.0      0   \n",
       "9                 Nasser, Mrs. Nicholas (Adele Achem)  female  14.0      1   \n",
       "10                    Sandstrom, Miss. Marguerite Rut  female   4.0      1   \n",
       "\n",
       "    Parch            Ticket     Fare Cabin Embarked  \n",
       "0       0         A/5 21171   7.2500   NaN        S  \n",
       "1       0          PC 17599  71.2833   C85        C  \n",
       "2       0  STON/O2. 3101282   7.9250   NaN        S  \n",
       "3       0            113803  53.1000  C123        S  \n",
       "4       0            373450   8.0500   NaN        S  \n",
       "5       0            330877   8.4583   NaN        Q  \n",
       "6       0             17463  51.8625   E46        S  \n",
       "7       1            349909  21.0750   NaN        S  \n",
       "8       2            347742  11.1333   NaN        S  \n",
       "9       0            237736  30.0708   NaN        C  \n",
       "10      1           PP 9549  16.7000    G6        S  "
      ]
     },
     "execution_count": 251,
     "metadata": {},
     "output_type": "execute_result"
    }
   ],
   "source": [
    "df.head(11)"
   ]
  },
  {
   "cell_type": "code",
   "execution_count": 252,
   "id": "13225809",
   "metadata": {},
   "outputs": [
    {
     "data": {
      "text/plain": [
       "Pclass\n",
       "1    216\n",
       "2    184\n",
       "3    491\n",
       "Name: Pclass, dtype: int64"
      ]
     },
     "execution_count": 252,
     "metadata": {},
     "output_type": "execute_result"
    }
   ],
   "source": [
    "counts = df.groupby('Pclass')['Pclass'].count()\n",
    "counts"
   ]
  },
  {
   "cell_type": "code",
   "execution_count": 253,
   "id": "0cfa0ef1",
   "metadata": {},
   "outputs": [
    {
     "data": {
      "text/plain": [
       "Pclass\n",
       "1    0.242424\n",
       "2    0.206510\n",
       "3    0.551066\n",
       "Name: Pclass, dtype: float64"
      ]
     },
     "execution_count": 253,
     "metadata": {},
     "output_type": "execute_result"
    }
   ],
   "source": [
    "counts / df.shape[0]"
   ]
  },
  {
   "cell_type": "code",
   "execution_count": 254,
   "id": "cc890e43",
   "metadata": {},
   "outputs": [
    {
     "data": {
      "text/html": [
       "<div>\n",
       "<style scoped>\n",
       "    .dataframe tbody tr th:only-of-type {\n",
       "        vertical-align: middle;\n",
       "    }\n",
       "\n",
       "    .dataframe tbody tr th {\n",
       "        vertical-align: top;\n",
       "    }\n",
       "\n",
       "    .dataframe thead th {\n",
       "        text-align: right;\n",
       "    }\n",
       "</style>\n",
       "<table border=\"1\" class=\"dataframe\">\n",
       "  <thead>\n",
       "    <tr style=\"text-align: right;\">\n",
       "      <th></th>\n",
       "      <th>PassengerId</th>\n",
       "      <th>Survived</th>\n",
       "      <th>Pclass</th>\n",
       "      <th>Name</th>\n",
       "      <th>Sex</th>\n",
       "      <th>Age</th>\n",
       "      <th>SibSp</th>\n",
       "      <th>Parch</th>\n",
       "      <th>Ticket</th>\n",
       "      <th>Fare</th>\n",
       "      <th>Cabin</th>\n",
       "      <th>Embarked</th>\n",
       "      <th>Family</th>\n",
       "    </tr>\n",
       "  </thead>\n",
       "  <tbody>\n",
       "    <tr>\n",
       "      <th>0</th>\n",
       "      <td>1</td>\n",
       "      <td>0</td>\n",
       "      <td>3</td>\n",
       "      <td>Braund, Mr. Owen Harris</td>\n",
       "      <td>male</td>\n",
       "      <td>22.0</td>\n",
       "      <td>1</td>\n",
       "      <td>0</td>\n",
       "      <td>A/5 21171</td>\n",
       "      <td>7.2500</td>\n",
       "      <td>NaN</td>\n",
       "      <td>S</td>\n",
       "      <td>Braund</td>\n",
       "    </tr>\n",
       "    <tr>\n",
       "      <th>1</th>\n",
       "      <td>2</td>\n",
       "      <td>1</td>\n",
       "      <td>1</td>\n",
       "      <td>Cumings, Mrs. John Bradley (Florence Briggs Th...</td>\n",
       "      <td>female</td>\n",
       "      <td>38.0</td>\n",
       "      <td>1</td>\n",
       "      <td>0</td>\n",
       "      <td>PC 17599</td>\n",
       "      <td>71.2833</td>\n",
       "      <td>C85</td>\n",
       "      <td>C</td>\n",
       "      <td>Cumings</td>\n",
       "    </tr>\n",
       "    <tr>\n",
       "      <th>2</th>\n",
       "      <td>3</td>\n",
       "      <td>1</td>\n",
       "      <td>3</td>\n",
       "      <td>Heikkinen, Miss. Laina</td>\n",
       "      <td>female</td>\n",
       "      <td>26.0</td>\n",
       "      <td>0</td>\n",
       "      <td>0</td>\n",
       "      <td>STON/O2. 3101282</td>\n",
       "      <td>7.9250</td>\n",
       "      <td>NaN</td>\n",
       "      <td>S</td>\n",
       "      <td>Heikkinen</td>\n",
       "    </tr>\n",
       "    <tr>\n",
       "      <th>3</th>\n",
       "      <td>4</td>\n",
       "      <td>1</td>\n",
       "      <td>1</td>\n",
       "      <td>Futrelle, Mrs. Jacques Heath (Lily May Peel)</td>\n",
       "      <td>female</td>\n",
       "      <td>35.0</td>\n",
       "      <td>1</td>\n",
       "      <td>0</td>\n",
       "      <td>113803</td>\n",
       "      <td>53.1000</td>\n",
       "      <td>C123</td>\n",
       "      <td>S</td>\n",
       "      <td>Futrelle</td>\n",
       "    </tr>\n",
       "    <tr>\n",
       "      <th>4</th>\n",
       "      <td>5</td>\n",
       "      <td>0</td>\n",
       "      <td>3</td>\n",
       "      <td>Allen, Mr. William Henry</td>\n",
       "      <td>male</td>\n",
       "      <td>35.0</td>\n",
       "      <td>0</td>\n",
       "      <td>0</td>\n",
       "      <td>373450</td>\n",
       "      <td>8.0500</td>\n",
       "      <td>NaN</td>\n",
       "      <td>S</td>\n",
       "      <td>Allen</td>\n",
       "    </tr>\n",
       "  </tbody>\n",
       "</table>\n",
       "</div>"
      ],
      "text/plain": [
       "   PassengerId  Survived  Pclass  \\\n",
       "0            1         0       3   \n",
       "1            2         1       1   \n",
       "2            3         1       3   \n",
       "3            4         1       1   \n",
       "4            5         0       3   \n",
       "\n",
       "                                                Name     Sex   Age  SibSp  \\\n",
       "0                            Braund, Mr. Owen Harris    male  22.0      1   \n",
       "1  Cumings, Mrs. John Bradley (Florence Briggs Th...  female  38.0      1   \n",
       "2                             Heikkinen, Miss. Laina  female  26.0      0   \n",
       "3       Futrelle, Mrs. Jacques Heath (Lily May Peel)  female  35.0      1   \n",
       "4                           Allen, Mr. William Henry    male  35.0      0   \n",
       "\n",
       "   Parch            Ticket     Fare Cabin Embarked     Family  \n",
       "0      0         A/5 21171   7.2500   NaN        S     Braund  \n",
       "1      0          PC 17599  71.2833   C85        C    Cumings  \n",
       "2      0  STON/O2. 3101282   7.9250   NaN        S  Heikkinen  \n",
       "3      0            113803  53.1000  C123        S   Futrelle  \n",
       "4      0            373450   8.0500   NaN        S      Allen  "
      ]
     },
     "execution_count": 254,
     "metadata": {},
     "output_type": "execute_result"
    }
   ],
   "source": [
    "df['Family'] = df.apply(lambda row: row['Name'].split(\",\")[0], axis=1)\n",
    "df.head()"
   ]
  },
  {
   "cell_type": "code",
   "execution_count": 255,
   "id": "e3ea2308",
   "metadata": {},
   "outputs": [
    {
     "data": {
      "text/plain": [
       "667"
      ]
     },
     "execution_count": 255,
     "metadata": {},
     "output_type": "execute_result"
    }
   ],
   "source": [
    "(df['Family'].value_counts() > 0).sum()"
   ]
  },
  {
   "cell_type": "code",
   "execution_count": 256,
   "id": "b1773dfa",
   "metadata": {},
   "outputs": [
    {
     "data": {
      "text/plain": [
       "'Braund'"
      ]
     },
     "execution_count": 256,
     "metadata": {},
     "output_type": "execute_result"
    }
   ],
   "source": [
    "s = \"Braund, Mr. Owen Harris\"\n",
    "s.split(\",\")[0]"
   ]
  },
  {
   "cell_type": "code",
   "execution_count": 257,
   "id": "1de22d1c",
   "metadata": {},
   "outputs": [
    {
     "data": {
      "text/plain": [
       "26.696000000000005"
      ]
     },
     "execution_count": 257,
     "metadata": {},
     "output_type": "execute_result"
    }
   ],
   "source": [
    "df[(df['Sex'] == 'male') & (df['Survived'] == 1) & (df['Embarked'] == 'S') & (df['Fare'] > 30)][\"Age\"].mean()"
   ]
  },
  {
   "cell_type": "code",
   "execution_count": null,
   "id": "8558ef02",
   "metadata": {},
   "outputs": [],
   "source": []
  },
  {
   "cell_type": "code",
   "execution_count": 260,
   "id": "9218856b",
   "metadata": {},
   "outputs": [],
   "source": [
    "def male_age(df: pd.DataFrame) -> float:\n",
    "    \"\"\"\n",
    "    Return mean age of survived men, embarked in Southampton with fare > 30\n",
    "    :param df: dataframe\n",
    "    :return: mean age\n",
    "    \"\"\"\n",
    "    return df[(df['Sex'] == 'male') & (df['Survived'] == 1) & (df['Embarked'] == 'S') & \n",
    "           (df['Fare'] > 30)][\"Age\"].mean()\n",
    "\n",
    "def nan_columns(df: pd.DataFrame):\n",
    "    \"\"\"\n",
    "    Return list of columns containing nans\n",
    "    :param df: dataframe\n",
    "    :return: series of columns\n",
    "    \"\"\"\n",
    "    return df.columns[df.isna().any()].tolist()\n",
    "    \n",
    "\n",
    "def class_distribution(df: pd.DataFrame) -> pd.Series:\n",
    "    \"\"\"\n",
    "    Return Pclass distrubution\n",
    "    :param df: dataframe\n",
    "    :return: series with ratios\n",
    "    \"\"\"\n",
    "    counts = df.groupby('Pclass')['Pclass'].count()\n",
    "    counts.index.name = None\n",
    "    return counts / df.shape[0]\n",
    "    \n",
    "def families_count(df: pd.DataFrame, k: int) -> int:\n",
    "    \"\"\"\n",
    "    Compute number of families with more than k members\n",
    "    :param df: dataframe,\n",
    "    :param k: number of members,\n",
    "    :return: number of families\n",
    "    \"\"\"\n",
    "    df['Family'] = df.apply(lambda row: row['Name'].split(\",\")[0], axis=1)\n",
    "    return (df['Family'].value_counts() > k).sum()\n",
    "\n",
    "def mean_price(df: pd.DataFrame, tickets) -> float:\n",
    "    \"\"\"\n",
    "    Return mean price for specific tickets list\n",
    "    :param df: dataframe,\n",
    "    :param tickets: list of tickets,\n",
    "    :return: mean fare for this tickets\n",
    "    \"\"\"\n",
    "    res = []\n",
    "    d"
   ]
  },
  {
   "cell_type": "code",
   "execution_count": 261,
   "id": "ec53838d-a6e6-44d7-bef1-cd95772a3a18",
   "metadata": {},
   "outputs": [
    {
     "data": {
      "text/plain": [
       "26.696000000000005"
      ]
     },
     "execution_count": 261,
     "metadata": {},
     "output_type": "execute_result"
    }
   ],
   "source": [
    "male_age(df)"
   ]
  },
  {
   "cell_type": "code",
   "execution_count": 262,
   "id": "99acfd1e-3116-4c4c-9daf-9e7abc91682e",
   "metadata": {},
   "outputs": [
    {
     "data": {
      "text/plain": [
       "1    0.242424\n",
       "2    0.206510\n",
       "3    0.551066\n",
       "Name: Pclass, dtype: float64"
      ]
     },
     "execution_count": 262,
     "metadata": {},
     "output_type": "execute_result"
    }
   ],
   "source": [
    "class_distribution(df)"
   ]
  },
  {
   "cell_type": "code",
   "execution_count": 275,
   "id": "42234a76-3b4a-44f2-8acb-144b0e153b71",
   "metadata": {},
   "outputs": [
    {
     "data": {
      "text/plain": [
       "Ticket\n",
       "347082      7\n",
       "CA. 2343    7\n",
       "1601        7\n",
       "3101295     6\n",
       "CA 2144     6\n",
       "           ..\n",
       "9234        1\n",
       "19988       1\n",
       "2693        1\n",
       "PC 17612    1\n",
       "370376      1\n",
       "Name: count, Length: 681, dtype: int64"
      ]
     },
     "execution_count": 275,
     "metadata": {},
     "output_type": "execute_result"
    }
   ],
   "source": [
    "df['Ticket'].value_counts()"
   ]
  },
  {
   "cell_type": "code",
   "execution_count": 273,
   "id": "139709a2-7054-4e79-b167-0bd8f688e6ba",
   "metadata": {},
   "outputs": [
    {
     "data": {
      "text/plain": [
       "8"
      ]
     },
     "execution_count": 273,
     "metadata": {},
     "output_type": "execute_result"
    }
   ],
   "source": [
    "families_count(df, 4)"
   ]
  },
  {
   "cell_type": "code",
   "execution_count": null,
   "id": "d8b6a8a0-2bdd-4a80-9449-141a6dc6a4d8",
   "metadata": {},
   "outputs": [],
   "source": []
  }
 ],
 "metadata": {
  "kernelspec": {
   "display_name": "Python 3 (ipykernel)",
   "language": "python",
   "name": "python3"
  },
  "language_info": {
   "codemirror_mode": {
    "name": "ipython",
    "version": 3
   },
   "file_extension": ".py",
   "mimetype": "text/x-python",
   "name": "python",
   "nbconvert_exporter": "python",
   "pygments_lexer": "ipython3",
   "version": "3.9.6"
  }
 },
 "nbformat": 4,
 "nbformat_minor": 5
}
