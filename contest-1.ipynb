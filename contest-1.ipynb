{
 "cells": [
  {
   "cell_type": "code",
   "execution_count": 19,
   "id": "5dabe322-6de3-466b-98c3-f5228e95d019",
   "metadata": {},
   "outputs": [],
   "source": [
    "import numpy as np\n"
   ]
  },
  {
   "cell_type": "code",
   "execution_count": 44,
   "id": "c4bf620a-7d76-4a93-9267-5d32e713957b",
   "metadata": {},
   "outputs": [],
   "source": [
    "def sigmoid(z):\n",
    "    return 1 / (1 + np.exp(-z))\n",
    "\n",
    "def LogRegGradient(X: np.array, y: np.array, w: np.array, C: float=1.0) -> np.array:\n",
    "    m = X.shape[0]\n",
    "    \n",
    "    y_pred = sigmoid(X.dot(w))\n",
    "    \n",
    "    diff = y_pred - y\n",
    "    g =  (X.T.dot(diff) + C * w) / m\n",
    "    \n",
    "    return g"
   ]
  },
  {
   "cell_type": "code",
   "execution_count": null,
   "id": "6df45de7-26e5-4c32-b4df-33091f34f7c3",
   "metadata": {},
   "outputs": [],
   "source": [
    "def LogRegGradient(X: np.array, y: np.array, w: np.array, C: float = 1.0) -> np.array:\n",
    "    \n",
    "    "
   ]
  },
  {
   "cell_type": "code",
   "execution_count": 45,
   "id": "922d8a66-320f-4e04-8dd9-b95f656b2739",
   "metadata": {},
   "outputs": [],
   "source": [
    "for it in range(100):\n",
    "    X_test2 = np.random.rand(50, 3)\n",
    "    y_test2 = np.random.randint(2, size=50)\n",
    "    w_test2 = np.random.rand(3)\n",
    "    C_test2 = 1.0\n",
    "    gradient_test2 = LogRegGradient(X_test2, y_test2, w_test2, C_test2)\n",
    "    # print(gradient_test2)\n",
    "    # print(LogRegGradient(X_test2, y_test2, w_test2))\n",
    "    assert np.array_equal(gradient_test2, LogRegGradient(X_test2, y_test2, w_test2))"
   ]
  },
  {
   "cell_type": "code",
   "execution_count": 17,
   "id": "3e343712-e1b1-4f23-8a18-46ec8d0b2ab1",
   "metadata": {},
   "outputs": [],
   "source": [
    "X_test3 = np.random.rand(50, 3)\n",
    "y_test3 = np.random.randint(2, size=50)\n",
    "w_test3 = np.random.rand(3)\n",
    "gradient_with_regularization_test3 = log_reg_gradient(X_test3, y_test3, w_test3, C=1.0)\n",
    "gradient_without_regularization_test3 = log_reg_gradient(X_test3, y_test3, w_test3, C=0.0)"
   ]
  },
  {
   "cell_type": "code",
   "execution_count": 18,
   "id": "eab6c540-d2db-4df3-bdb0-bdfa1e59e1cb",
   "metadata": {},
   "outputs": [
    {
     "name": "stdout",
     "output_type": "stream",
     "text": [
      "[0.12856186 0.11402583 0.16191932]\n",
      "[0.12856186 0.09612126 0.14436525]\n"
     ]
    }
   ],
   "source": [
    "print(gradient_with_regularization_test3)\n",
    "print(gradient_without_regularization_test3)"
   ]
  },
  {
   "cell_type": "code",
   "execution_count": 11,
   "id": "ac5188ee-73a5-4603-8928-dbdaaa51ac02",
   "metadata": {},
   "outputs": [
    {
     "name": "stdout",
     "output_type": "stream",
     "text": [
      "[0.06949869 0.04174784 0.12539331]\n",
      "[0.06949869 0.04174784 0.12539331]\n"
     ]
    }
   ],
   "source": [
    "print(gradient_test2)\n",
    "print(log_reg_gradient(X_test2, y_test2, w_test2))"
   ]
  },
  {
   "cell_type": "code",
   "execution_count": 12,
   "id": "77b388f8-bf29-4955-95aa-29656984c503",
   "metadata": {},
   "outputs": [
    {
     "ename": "AssertionError",
     "evalue": "",
     "output_type": "error",
     "traceback": [
      "\u001b[0;31m---------------------------------------------------------------------------\u001b[0m",
      "\u001b[0;31mAssertionError\u001b[0m                            Traceback (most recent call last)",
      "Cell \u001b[0;32mIn[12], line 1\u001b[0m\n\u001b[0;32m----> 1\u001b[0m \u001b[38;5;28;01massert\u001b[39;00m \u001b[38;5;129;01mnot\u001b[39;00m np\u001b[38;5;241m.\u001b[39marray_equal(gradient_test2, log_reg_gradient(X_test2, y_test2, w_test2))\n",
      "\u001b[0;31mAssertionError\u001b[0m: "
     ]
    }
   ],
   "source": [
    "assert not np.array_equal(gradient_test2, log_reg_gradient(X_test2, y_test2, w_test2))"
   ]
  },
  {
   "cell_type": "code",
   "execution_count": 16,
   "id": "a18f79be-bfe1-4cee-848c-5b9307e632e8",
   "metadata": {},
   "outputs": [
    {
     "ename": "AssertionError",
     "evalue": "Test 3 failed: Regularization term is present with C=0",
     "output_type": "error",
     "traceback": [
      "\u001b[0;31m---------------------------------------------------------------------------\u001b[0m",
      "\u001b[0;31mAssertionError\u001b[0m                            Traceback (most recent call last)",
      "Cell \u001b[0;32mIn[16], line 22\u001b[0m\n\u001b[1;32m     19\u001b[0m     \u001b[38;5;28mprint\u001b[39m(\u001b[38;5;124m\"\u001b[39m\u001b[38;5;124mAll tests passed.\u001b[39m\u001b[38;5;124m\"\u001b[39m)\n\u001b[1;32m     21\u001b[0m \u001b[38;5;66;03m# Example usage:\u001b[39;00m\n\u001b[0;32m---> 22\u001b[0m \u001b[43mrun_local_tests\u001b[49m\u001b[43m(\u001b[49m\u001b[43m)\u001b[49m\n",
      "Cell \u001b[0;32mIn[16], line 17\u001b[0m, in \u001b[0;36mrun_local_tests\u001b[0;34m()\u001b[0m\n\u001b[1;32m     14\u001b[0m gradient_without_regularization_test3 \u001b[38;5;241m=\u001b[39m log_reg_gradient(X_test3, y_test3, w_test3, C\u001b[38;5;241m=\u001b[39m\u001b[38;5;241m0.0\u001b[39m)\n\u001b[1;32m     16\u001b[0m \u001b[38;5;66;03m# Check if regularization term is not present when C=0\u001b[39;00m\n\u001b[0;32m---> 17\u001b[0m \u001b[38;5;28;01massert\u001b[39;00m np\u001b[38;5;241m.\u001b[39marray_equal(gradient_with_regularization_test3, gradient_without_regularization_test3), \u001b[38;5;124m\"\u001b[39m\u001b[38;5;124mTest 3 failed: Regularization term is present with C=0\u001b[39m\u001b[38;5;124m\"\u001b[39m\n\u001b[1;32m     19\u001b[0m \u001b[38;5;28mprint\u001b[39m(\u001b[38;5;124m\"\u001b[39m\u001b[38;5;124mAll tests passed.\u001b[39m\u001b[38;5;124m\"\u001b[39m)\n",
      "\u001b[0;31mAssertionError\u001b[0m: Test 3 failed: Regularization term is present with C=0"
     ]
    }
   ],
   "source": [
    "def run_local_tests():\n",
    "    # Test 1: Check gradient shape\n",
    "    X_test1 = np.random.rand(50, 3)\n",
    "    y_test1 = np.random.randint(2, size=50)\n",
    "    w_test1 = np.random.rand(3)\n",
    "    gradient_test1 = log_reg_gradient(X_test1, y_test1, w_test1)\n",
    "    assert gradient_test1.shape == w_test1.shape, \"Test 1 failed: Gradient shape does not match weight shape\"\n",
    "\n",
    "    # Test 3: Check regularization with C=0.0\n",
    "    X_test3 = np.random.rand(50, 3)\n",
    "    y_test3 = np.random.randint(2, size=50)\n",
    "    w_test3 = np.random.rand(3)\n",
    "    gradient_with_regularization_test3 = log_reg_gradient(X_test3, y_test3, w_test3, C=1.0)\n",
    "    gradient_without_regularization_test3 = log_reg_gradient(X_test3, y_test3, w_test3, C=0.0)\n",
    "\n",
    "    # Check if regularization term is not present when C=0\n",
    "    assert np.array_equal(gradient_with_regularization_test3, gradient_without_regularization_test3), \"Test 3 failed: Regularization term is present with C=0\"\n",
    "\n",
    "    print(\"All tests passed.\")\n",
    "\n",
    "# Example usage:\n",
    "run_local_tests()"
   ]
  },
  {
   "cell_type": "code",
   "execution_count": null,
   "id": "6c496694-5166-4915-bee7-6382787504f1",
   "metadata": {},
   "outputs": [],
   "source": []
  }
 ],
 "metadata": {
  "kernelspec": {
   "display_name": "Python 3 (ipykernel)",
   "language": "python",
   "name": "python3"
  },
  "language_info": {
   "codemirror_mode": {
    "name": "ipython",
    "version": 3
   },
   "file_extension": ".py",
   "mimetype": "text/x-python",
   "name": "python",
   "nbconvert_exporter": "python",
   "pygments_lexer": "ipython3",
   "version": "3.9.6"
  }
 },
 "nbformat": 4,
 "nbformat_minor": 5
}
