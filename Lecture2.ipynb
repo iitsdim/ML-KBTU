{
 "cells": [
  {
   "cell_type": "code",
   "execution_count": 2,
   "id": "408a441f-41de-4b22-9b37-8a755b67b627",
   "metadata": {},
   "outputs": [
    {
     "data": {
      "text/plain": [
       "array([1, 2, 7])"
      ]
     },
     "execution_count": 2,
     "metadata": {},
     "output_type": "execute_result"
    }
   ],
   "source": [
    "import numpy as np\n",
    "\n",
    "vector = np.array([1, 2, 7])\n",
    "vector"
   ]
  },
  {
   "cell_type": "code",
   "execution_count": 3,
   "id": "958e23a1-3f58-40d9-b477-9fc908c9d358",
   "metadata": {},
   "outputs": [
    {
     "name": "stdout",
     "output_type": "stream",
     "text": [
      "int64\n",
      "float64\n"
     ]
    }
   ],
   "source": [
    "print(vector.dtype)\n",
    "float_vector = np.array([-0.1, 1.123])\n",
    "print(float_vector.dtype)"
   ]
  },
  {
   "cell_type": "code",
   "execution_count": 4,
   "id": "03c1d43e-ddd5-4257-b94d-405a079fc807",
   "metadata": {},
   "outputs": [
    {
     "name": "stdout",
     "output_type": "stream",
     "text": [
      "[0.   0.25 0.5  0.75 1.  ]\n",
      "[1 2 3 4 5]\n",
      "Zero vector: [0. 0. 0. 0. 0.]\n"
     ]
    }
   ],
   "source": [
    "x = np.linspace(0, 1, num=5)\n",
    "y = np.arange(1, 6)\n",
    "z = np.zeros(5)\n",
    "print(x)\n",
    "print(y)\n",
    "print(\"Zero vector:\", z)"
   ]
  },
  {
   "cell_type": "code",
   "execution_count": 5,
   "id": "4b148304-4d30-42ad-a6f8-05ad9f6a7f67",
   "metadata": {},
   "outputs": [
    {
     "name": "stdout",
     "output_type": "stream",
     "text": [
      "Sum: [1.   2.25 3.5  4.75 6.  ]\n",
      "Diff: [1.   1.75 2.5  3.25 4.  ]\n"
     ]
    }
   ],
   "source": [
    "print(\"Sum:\", x+y)\n",
    "print(\"Diff:\", y-x)"
   ]
  },
  {
   "cell_type": "code",
   "execution_count": 6,
   "id": "8142b9bf-9765-47e1-b933-7a1e6ddaf50c",
   "metadata": {},
   "outputs": [
    {
     "name": "stdout",
     "output_type": "stream",
     "text": [
      "[-1 -2 -3 -4 -5]\n"
     ]
    }
   ],
   "source": [
    "print(-y)"
   ]
  },
  {
   "cell_type": "code",
   "execution_count": 8,
   "id": "1a021c75-0dc5-47a1-ae38-76d0129b65c7",
   "metadata": {},
   "outputs": [
    {
     "name": "stdout",
     "output_type": "stream",
     "text": [
      "1-norm = 15.0\n",
      "2-norm = 7.416198487095663\n",
      "10-norm = 5.054055784535375\n",
      "infinite norm = 5.0\n"
     ]
    }
   ],
   "source": [
    "print(\"1-norm =\", np.linalg.norm(y, ord=1))\n",
    "print(\"2-norm =\", np.linalg.norm(y, ord=2))\n",
    "print(\"10-norm =\", np.linalg.norm(y, ord=10))\n",
    "print(\"infinite norm =\", np.linalg.norm(y, ord=np.inf))"
   ]
  },
  {
   "cell_type": "code",
   "execution_count": 9,
   "id": "95b4aa41-757c-4134-901e-e103acd0ba98",
   "metadata": {},
   "outputs": [
    {
     "name": "stdout",
     "output_type": "stream",
     "text": [
      "[260, 428, 758, 560]\n",
      "[376, 140, 502, 400]\n",
      "[590, 444, 150, 240]\n",
      "[386, 316, 214, 80]\n"
     ]
    }
   ],
   "source": [
    "def coppersmith_winograd(A, B):\n",
    "    n = len(A)\n",
    "    \n",
    "    if n == 1:\n",
    "        return [[A[0][0] * B[0][0]]]\n",
    "\n",
    "    # Split matrices into four quarters\n",
    "    a11 = [row[:n//2] for row in A[:n//2]]\n",
    "    a12 = [row[n//2:] for row in A[:n//2]]\n",
    "    a21 = [row[:n//2] for row in A[n//2:]]\n",
    "    a22 = [row[n//2:] for row in A[n//2:]]\n",
    "    \n",
    "    b11 = [row[:n//2] for row in B[:n//2]]\n",
    "    b12 = [row[n//2:] for row in B[:n//2]]\n",
    "    b21 = [row[:n//2] for row in B[n//2:]]\n",
    "    b22 = [row[n//2:] for row in B[n//2:]]\n",
    "    \n",
    "    # Recursive calls for matrix multiplications\n",
    "    p1 = coppersmith_winograd(a11, b11)\n",
    "    p2 = coppersmith_winograd(a12, b21)\n",
    "    p3 = coppersmith_winograd(a11, b12)\n",
    "    p4 = coppersmith_winograd(a12, b22)\n",
    "    p5 = coppersmith_winograd(a21, b11)\n",
    "    p6 = coppersmith_winograd(a22, b21)\n",
    "    p7 = coppersmith_winograd(a21, b12)\n",
    "    p8 = coppersmith_winograd(a22, b22)\n",
    "    \n",
    "    # Calculate the four quadrants of the result matrix\n",
    "    c11 = [[p1[i][j] + p2[i][j] + p3[i][j] + p4[i][j] for j in range(n//2)] for i in range(n//2)]\n",
    "    c12 = [[p5[i][j] + p6[i][j] for j in range(n//2)] for i in range(n//2)]\n",
    "    c21 = [[p7[i][j] + p8[i][j] for j in range(n//2)] for i in range(n//2)]\n",
    "    c22 = [[p1[i][j] + p2[i][j] for j in range(n//2)] for i in range(n//2)]\n",
    "\n",
    "    # Combine the four quadrants to get the result matrix\n",
    "    C = [[0 for _ in range(n)] for _ in range(n)]\n",
    "    for i in range(n//2):\n",
    "        for j in range(n//2):\n",
    "            C[i][j] = c11[i][j]\n",
    "            C[i][j + n//2] = c12[i][j]\n",
    "            C[i + n//2][j] = c21[i][j]\n",
    "            C[i + n//2][j + n//2] = c22[i][j]\n",
    "    \n",
    "    return C\n",
    "\n",
    "# Example usage\n",
    "A = [[1, 2, 3, 4],\n",
    "     [5, 6, 7, 8],\n",
    "     [9, 10, 11, 12],\n",
    "     [13, 14, 15, 16]]\n",
    "\n",
    "B = [[16, 15, 14, 13],\n",
    "     [12, 11, 10, 9],\n",
    "     [8, 7, 6, 5],\n",
    "     [4, 3, 2, 1]]\n",
    "\n",
    "result = coppersmith_winograd(A, B)\n",
    "for row in result:\n",
    "    print(row)\n"
   ]
  },
  {
   "cell_type": "code",
   "execution_count": null,
   "id": "36d7b0c7-5809-4070-b0a9-93322b38c06d",
   "metadata": {},
   "outputs": [],
   "source": []
  }
 ],
 "metadata": {
  "kernelspec": {
   "display_name": "Python 3 (ipykernel)",
   "language": "python",
   "name": "python3"
  },
  "language_info": {
   "codemirror_mode": {
    "name": "ipython",
    "version": 3
   },
   "file_extension": ".py",
   "mimetype": "text/x-python",
   "name": "python",
   "nbconvert_exporter": "python",
   "pygments_lexer": "ipython3",
   "version": "3.9.6"
  }
 },
 "nbformat": 4,
 "nbformat_minor": 5
}
