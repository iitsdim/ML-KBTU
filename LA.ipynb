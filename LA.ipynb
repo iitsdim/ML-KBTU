{
 "cells": [
  {
   "cell_type": "code",
   "execution_count": 2,
   "id": "65336f95",
   "metadata": {},
   "outputs": [],
   "source": [
    "import numpy as np"
   ]
  },
  {
   "cell_type": "markdown",
   "id": "747bf184",
   "metadata": {},
   "source": [
    "## Matrix multipilcation\n",
    "\n",
    "Define a function in pure Python which calculates matrix product."
   ]
  },
  {
   "cell_type": "code",
   "execution_count": 18,
   "id": "af9a4b7e",
   "metadata": {},
   "outputs": [],
   "source": [
    "def mat_mul(A, B: np.array):\n",
    "    assert A.shape[1] == B.shape[0], \"The number of cols of A must equal to the number of rows of B\"\n",
    "    C = np.zeros((A.shape[0], B.shape[1]))\n",
    "    for i in range(A.shape[0]):\n",
    "        for j in range(B.shape[1]):\n",
    "            # YOUR CODE HERE\n",
    "    return C"
   ]
  },
  {
   "cell_type": "code",
   "execution_count": 13,
   "id": "2c95dc3b",
   "metadata": {},
   "outputs": [
    {
     "data": {
      "text/plain": [
       "(array([[-2,  2, -1],\n",
       "        [ 2, -1,  1]]),\n",
       " array([[ 1,  1],\n",
       "        [ 0, -1],\n",
       "        [ 1, -2]]))"
      ]
     },
     "execution_count": 13,
     "metadata": {},
     "output_type": "execute_result"
    }
   ],
   "source": [
    "A = np.random.randint(-2, 3, size=(2, 3))\n",
    "B = np.random.randint(-2, 3, size=(3, 2))\n",
    "A, B"
   ]
  },
  {
   "cell_type": "code",
   "execution_count": 14,
   "id": "900c823b",
   "metadata": {},
   "outputs": [
    {
     "data": {
      "text/plain": [
       "array([[-3., -2.],\n",
       "       [ 3.,  1.]])"
      ]
     },
     "execution_count": 14,
     "metadata": {},
     "output_type": "execute_result"
    }
   ],
   "source": [
    "mat_mul(A, B)"
   ]
  },
  {
   "cell_type": "code",
   "execution_count": 16,
   "id": "1a15de1e",
   "metadata": {},
   "outputs": [],
   "source": [
    "# Testing area\n",
    "for m in range(1, 10):\n",
    "    for n in range(1, 10):\n",
    "        for p in range(1, 10):\n",
    "            A = np.random.rand(m, n)\n",
    "            B = np.random.normal(size=(n, p))\n",
    "            assert np.allclose(np.dot(A, B), mat_mul(A, B))"
   ]
  },
  {
   "cell_type": "markdown",
   "id": "df1a12d0",
   "metadata": {},
   "source": [
    "## Why NumPy is so good?"
   ]
  },
  {
   "cell_type": "code",
   "execution_count": 19,
   "id": "82433259",
   "metadata": {},
   "outputs": [],
   "source": [
    "n = 100\n",
    "A = np.random.rand(n, n)\n",
    "B = np.random.rand(n, n)"
   ]
  },
  {
   "cell_type": "code",
   "execution_count": 21,
   "id": "723f74f5",
   "metadata": {},
   "outputs": [
    {
     "name": "stdout",
     "output_type": "stream",
     "text": [
      "CPU times: user 720 ms, sys: 8.62 ms, total: 728 ms\n",
      "Wall time: 745 ms\n"
     ]
    }
   ],
   "source": [
    "%%time\n",
    "C = mat_mul(A, B)"
   ]
  },
  {
   "cell_type": "code",
   "execution_count": 22,
   "id": "56ae4f63",
   "metadata": {},
   "outputs": [
    {
     "name": "stdout",
     "output_type": "stream",
     "text": [
      "CPU times: user 1.51 ms, sys: 2.91 ms, total: 4.42 ms\n",
      "Wall time: 5.17 ms\n"
     ]
    }
   ],
   "source": [
    "%%time\n",
    "D = A @ B"
   ]
  },
  {
   "cell_type": "code",
   "execution_count": 23,
   "id": "e1e0351d",
   "metadata": {},
   "outputs": [
    {
     "data": {
      "text/plain": [
       "2.672103632970926e-13"
      ]
     },
     "execution_count": 23,
     "metadata": {},
     "output_type": "execute_result"
    }
   ],
   "source": [
    "np.linalg.norm(C - D)"
   ]
  },
  {
   "cell_type": "markdown",
   "id": "f3e569a2",
   "metadata": {},
   "source": [
    "## Hilbert matrix\n",
    "\n",
    "This is a square matrix \n",
    "\n",
    "$$\n",
    "\\boldsymbol H_n = (a_{ij}), \\quad a_{ij} = \\frac 1{i+j-1}, \\quad 1 \\leqslant i, j \\leqslant n.\n",
    "$$"
   ]
  },
  {
   "cell_type": "code",
   "execution_count": 25,
   "id": "1d097926",
   "metadata": {},
   "outputs": [],
   "source": [
    "from scipy.linalg import hilbert"
   ]
  },
  {
   "cell_type": "code",
   "execution_count": 26,
   "id": "29ce4416",
   "metadata": {},
   "outputs": [
    {
     "data": {
      "text/plain": [
       "array([[1.        , 0.5       , 0.33333333],\n",
       "       [0.5       , 0.33333333, 0.25      ],\n",
       "       [0.33333333, 0.25      , 0.2       ]])"
      ]
     },
     "execution_count": 26,
     "metadata": {},
     "output_type": "execute_result"
    }
   ],
   "source": [
    "hilbert(3)"
   ]
  },
  {
   "cell_type": "markdown",
   "id": "7252c423",
   "metadata": {},
   "source": [
    "The Hilbert matrix is extremely ill-conditioned:"
   ]
  },
  {
   "cell_type": "code",
   "execution_count": 51,
   "id": "b726c2ea",
   "metadata": {},
   "outputs": [
    {
     "name": "stdout",
     "output_type": "stream",
     "text": [
      "n = 1, cond_num = 1.000e+00, det = 1.000e+00,             min_eig = 1.000e+00, max_eig = 1.000e+00\n",
      "n = 2, cond_num = 1.928e+01, det = 8.333e-02,             min_eig = 6.574e-02, max_eig = 1.268e+00\n",
      "n = 3, cond_num = 5.241e+02, det = 4.630e-04,             min_eig = 2.687e-03, max_eig = 1.408e+00\n",
      "n = 4, cond_num = 1.551e+04, det = 1.653e-07,             min_eig = 9.670e-05, max_eig = 1.500e+00\n",
      "n = 5, cond_num = 4.766e+05, det = 3.749e-12,             min_eig = 3.288e-06, max_eig = 1.567e+00\n",
      "n = 6, cond_num = 1.495e+07, det = 5.367e-18,             min_eig = 1.083e-07, max_eig = 1.619e+00\n",
      "n = 7, cond_num = 4.754e+08, det = 4.836e-25,             min_eig = 3.494e-09, max_eig = 1.661e+00\n",
      "n = 8, cond_num = 1.526e+10, det = 2.737e-33,             min_eig = 1.112e-10, max_eig = 1.696e+00\n",
      "n = 9, cond_num = 4.932e+11, det = 9.720e-43,             min_eig = 3.500e-12, max_eig = 1.726e+00\n"
     ]
    }
   ],
   "source": [
    "for n in range(1, 10):\n",
    "    H_n = hilbert(n)\n",
    "    eigs = np.linalg.eig(H_n).eigenvalues\n",
    "    print(f\"n = {n}, cond_num = {np.linalg.cond(H_n):.3e}, det = {np.linalg.det(H_n):.3e}, \\\n",
    "            min_eig = {eigs.min():.3e}, max_eig = {eigs.max():.3e}\")"
   ]
  },
  {
   "cell_type": "markdown",
   "id": "ed502bc6",
   "metadata": {},
   "source": [
    "Now investigate how such ill-conditoning affects the quality of solving linear systems $\\boldsymbol H_n\\boldsymbol x = \\boldsymbol b$."
   ]
  },
  {
   "cell_type": "code",
   "execution_count": 30,
   "id": "c49898cf",
   "metadata": {},
   "outputs": [],
   "source": [
    "def solve_hilbert_system(n):\n",
    "    A = hilbert(n)\n",
    "    b = np.random.normal(size=n)\n",
    "    x = np.linalg.solve(A, b)\n",
    "    print(\"error norm:\", np.linalg.norm(A.dot(x) - b))\n",
    "    return x"
   ]
  },
  {
   "cell_type": "code",
   "execution_count": 52,
   "id": "330f669e",
   "metadata": {},
   "outputs": [
    {
     "name": "stdout",
     "output_type": "stream",
     "text": [
      "n = 1\n",
      "error norm: 0.0\n",
      "n = 2\n",
      "error norm: 1.5700924586837752e-16\n",
      "n = 3\n",
      "error norm: 1.1841390682995302e-15\n",
      "n = 4\n",
      "error norm: 2.3043514002227376e-13\n",
      "n = 5\n",
      "error norm: 4.897486132178905e-12\n",
      "n = 6\n",
      "error norm: 5.851558496941621e-11\n",
      "n = 7\n",
      "error norm: 1.197047879782e-09\n",
      "n = 8\n",
      "error norm: 1.7376504674055236e-07\n",
      "n = 9\n",
      "error norm: 1.9461406107241145e-07\n",
      "n = 10\n",
      "error norm: 3.036335301902161e-06\n",
      "n = 11\n",
      "error norm: 0.00032787070886946325\n",
      "n = 12\n",
      "error norm: 0.14073209776316706\n",
      "n = 13\n",
      "error norm: 7.353357082053073\n",
      "n = 14\n",
      "error norm: 1.0135864160824293\n",
      "n = 15\n",
      "error norm: 3.430238014301425\n",
      "n = 16\n",
      "error norm: 9.84894593983335\n",
      "n = 17\n",
      "error norm: 32.33191790369275\n",
      "n = 18\n",
      "error norm: 3.653441968801507\n",
      "n = 19\n",
      "error norm: 12.82610019277319\n"
     ]
    }
   ],
   "source": [
    "for n in range(1, 20):\n",
    "    print(f\"n = {n}\")\n",
    "    _ = solve_hilbert_system(n)"
   ]
  },
  {
   "cell_type": "markdown",
   "id": "5779aa20",
   "metadata": {},
   "source": [
    "## Sherman—Morrison formula\n",
    "\n",
    "Let $\\boldsymbol A \\in \\mathbb R^{n\\times n}$ be an invertible matrix and $\\boldsymbol u, \\boldsymbol v \\in \\mathbb R^n$. Prove that\n",
    "\n",
    "$$\n",
    "    (\\boldsymbol A + \\boldsymbol u \\boldsymbol v^\\top)^{-1} =\n",
    "    \\boldsymbol A^{-1} - \\frac{\\boldsymbol A^{-1} \\boldsymbol u \\boldsymbol v^\\top \\boldsymbol A^{-1}}{1 + \\boldsymbol v^\\top\\boldsymbol A^{-1} \\boldsymbol u }.\n",
    "$$\n",
    "\n",
    "If we put $\\boldsymbol A = \\boldsymbol I$, then\n",
    "\n",
    "$$\n",
    "    (\\boldsymbol I + \\boldsymbol u \\boldsymbol v^\\top)^{-1} = \\boldsymbol I - \\frac{\\boldsymbol u \\boldsymbol v^\\top}{1 + \\boldsymbol v^\\top\\boldsymbol u }.\n",
    "$$\n",
    "\n",
    "Check the last one experimentally:"
   ]
  },
  {
   "cell_type": "code",
   "execution_count": 38,
   "id": "011e7fd2",
   "metadata": {},
   "outputs": [],
   "source": [
    "def check_sherman_morrison(n, n_tests=10):\n",
    "    for _ in range(n_tests):\n",
    "        u = np.random.randn(n)\n",
    "        v = np.random.randn(n)\n",
    "        lhs = np.linalg.inv(np.eye(n) + np.outer(u, v)) \n",
    "        rhs = np.eye(n) - np.outer(u, v) / (1 + np.inner(u, v))\n",
    "        assert np.allclose(lhs, rhs)"
   ]
  },
  {
   "cell_type": "code",
   "execution_count": 39,
   "id": "1c6fac06",
   "metadata": {},
   "outputs": [],
   "source": [
    "for n in range(1, 101):\n",
    "    check_sherman_morrison(n)"
   ]
  },
  {
   "cell_type": "markdown",
   "id": "29cb3f62",
   "metadata": {},
   "source": [
    "## QR-decomposition\n",
    "\n",
    "Any square matrix $\\boldsymbol A$ can be factored as $\\boldsymbol A = \\boldsymbol {QR}$, where $\\boldsymbol Q$ is otrhogonal, $\\boldsymbol R$ is upper triangular."
   ]
  },
  {
   "cell_type": "code",
   "execution_count": 56,
   "id": "fb7215dc",
   "metadata": {},
   "outputs": [
    {
     "data": {
      "text/plain": [
       "array([[ 1.,  0.,  0.,  0.],\n",
       "       [-1.,  1.,  0.,  0.],\n",
       "       [ 0., -1.,  1.,  0.],\n",
       "       [ 0.,  0., -1.,  1.]])"
      ]
     },
     "execution_count": 56,
     "metadata": {},
     "output_type": "execute_result"
    }
   ],
   "source": [
    "A = np.eye(4) - np.diag([1, 1, 1], -1)\n",
    "A"
   ]
  },
  {
   "cell_type": "code",
   "execution_count": 60,
   "id": "3d878205",
   "metadata": {},
   "outputs": [],
   "source": [
    "from scipy.linalg import qr\n",
    "Q, R = qr(A)"
   ]
  },
  {
   "cell_type": "code",
   "execution_count": 61,
   "id": "1481247b",
   "metadata": {},
   "outputs": [
    {
     "data": {
      "text/plain": [
       "array([[-0.70710678, -0.40824829, -0.28867513,  0.5       ],\n",
       "       [ 0.70710678, -0.40824829, -0.28867513,  0.5       ],\n",
       "       [-0.        ,  0.81649658, -0.28867513,  0.5       ],\n",
       "       [-0.        , -0.        ,  0.8660254 ,  0.5       ]])"
      ]
     },
     "execution_count": 61,
     "metadata": {},
     "output_type": "execute_result"
    }
   ],
   "source": [
    "Q"
   ]
  },
  {
   "cell_type": "code",
   "execution_count": 62,
   "id": "d6c2aa73",
   "metadata": {},
   "outputs": [
    {
     "data": {
      "text/plain": [
       "array([[ 1.00000000e+00, -1.02766874e-16, -6.44092477e-17,\n",
       "         1.34015774e-16],\n",
       "       [-1.02766874e-16,  1.00000000e+00,  6.47192599e-18,\n",
       "         0.00000000e+00],\n",
       "       [-6.44092477e-17,  6.47192599e-18,  1.00000000e+00,\n",
       "        -9.61481343e-17],\n",
       "       [ 1.34015774e-16,  0.00000000e+00, -9.61481343e-17,\n",
       "         1.00000000e+00]])"
      ]
     },
     "execution_count": 62,
     "metadata": {},
     "output_type": "execute_result"
    }
   ],
   "source": [
    "Q.T.dot(Q)"
   ]
  },
  {
   "cell_type": "code",
   "execution_count": 63,
   "id": "be33e289",
   "metadata": {},
   "outputs": [
    {
     "data": {
      "text/plain": [
       "array([[-1.41421356,  0.70710678,  0.        ,  0.        ],\n",
       "       [ 0.        , -1.22474487,  0.81649658,  0.        ],\n",
       "       [ 0.        ,  0.        , -1.15470054,  0.8660254 ],\n",
       "       [ 0.        ,  0.        ,  0.        ,  0.5       ]])"
      ]
     },
     "execution_count": 63,
     "metadata": {},
     "output_type": "execute_result"
    }
   ],
   "source": [
    "R"
   ]
  },
  {
   "cell_type": "markdown",
   "id": "07250bd9",
   "metadata": {},
   "source": [
    "## Determinants of random matrices"
   ]
  },
  {
   "cell_type": "code",
   "execution_count": 66,
   "id": "3141934f",
   "metadata": {},
   "outputs": [
    {
     "name": "stdout",
     "output_type": "stream",
     "text": [
      "n = 50 det(A) = 633617.4059593034, det(B) = -1.1177304606162048e+31\n",
      "n = 100 det(A) = -5.092533271178905e+25, det(B) = -2.2008332651963453e+79\n",
      "n = 150 det(A) = 2.3959508854623266e+50, det(B) = -7.414548414180079e+130\n",
      "n = 200 det(A) = 1.4884224076785974e+79, det(B) = -5.421865869726501e+185\n",
      "n = 250 det(A) = 1.376301742902998e+111, det(B) = 1.1866152201781836e+244\n",
      "n = 300 det(A) = -9.698974277128945e+144, det(B) = -2.233302454426092e+307\n",
      "n = 350 det(A) = -8.570052195673854e+181, det(B) = -inf\n",
      "n = 400 det(A) = -6.940946583695544e+217, det(B) = inf\n",
      "n = 450 det(A) = 9.547140619290411e+256, det(B) = -inf\n"
     ]
    },
    {
     "name": "stderr",
     "output_type": "stream",
     "text": [
      "/Library/Frameworks/Python.framework/Versions/3.11/lib/python3.11/site-packages/numpy/linalg/linalg.py:2180: RuntimeWarning: overflow encountered in det\n",
      "  r = _umath_linalg.det(a, signature=signature)\n"
     ]
    }
   ],
   "source": [
    "for n in range(50, 500, 50):\n",
    "    A = np.random.rand(n, n)\n",
    "    B = np.random.randn(n, n)\n",
    "    print(f\"n = {n}\", f\"det(A) = {np.linalg.det(A)}, det(B) = {np.linalg.det(B)}\")"
   ]
  }
 ],
 "metadata": {
  "kernelspec": {
   "display_name": "Python 3 (ipykernel)",
   "language": "python",
   "name": "python3"
  },
  "language_info": {
   "codemirror_mode": {
    "name": "ipython",
    "version": 3
   },
   "file_extension": ".py",
   "mimetype": "text/x-python",
   "name": "python",
   "nbconvert_exporter": "python",
   "pygments_lexer": "ipython3",
   "version": "3.11.4"
  }
 },
 "nbformat": 4,
 "nbformat_minor": 5
}
